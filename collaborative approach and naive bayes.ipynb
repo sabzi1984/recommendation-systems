{
  "cells": [
    {
      "cell_type": "markdown",
      "metadata": {
        "id": "QgQo7hDf1Svm"
      },
      "source": [
        "**LOG6308 : Tp1 - Recommendation by collaborative filtering-**\n",
        "\n",
        "\n",
        "*   Ali Akbar Sabzi Dizajyekan 2078921\n",
        "*   Mathusan Kathirithamby -2113367\n",
        "\n",
        "---\n",
        "\n",
        "\n"
      ]
    },
    {
      "cell_type": "code",
      "execution_count": null,
      "metadata": {
        "id": "JyqdT604z8kl"
      },
      "outputs": [],
      "source": [
        "import numpy as np\n",
        "import pandas as pd \n",
        "import os \n",
        "import random\n",
        "import math\n",
        "from statistics import mean\n",
        "import matplotlib.pyplot as plt \n",
        "from scipy.stats import ttest_ind\n",
        "import more_itertools\n",
        "from sklearn.metrics.pairwise import cosine_similarity\n",
        "import tqdm\n",
        "from datetime import datetime\n",
        "from sklearn.cluster import KMeans"
      ]
    },
    {
      "cell_type": "code",
      "execution_count": null,
      "metadata": {
        "colab": {
          "base_uri": "https://localhost:8080/"
        },
        "id": "2as2QFMJ06vC",
        "outputId": "0a560acc-563d-4746-97b7-f4ceae3eb5cb"
      },
      "outputs": [
        {
          "output_type": "stream",
          "name": "stdout",
          "text": [
            "Mounted at /content/drive\n"
          ]
        }
      ],
      "source": [
        "from google.colab import drive\n",
        "drive.mount('/content/drive')"
      ]
    },
    {
      "cell_type": "markdown",
      "metadata": {
        "id": "ASUDPyduv7PG"
      },
      "source": [
        "**path to data just change this path to your data and run all**"
      ]
    },
    {
      "cell_type": "code",
      "execution_count": null,
      "metadata": {
        "id": "mcd0wgcI0u06"
      },
      "outputs": [],
      "source": [
        "\n",
        "#path pour Mathusan\n",
        "PATH_DATA = '/content/drive/MyDrive/POLYTECHNIQUE/Hiver2022/System de recommendation/TP1'\n",
        "# PATH_DATA = \"/content/drive/MyDrive/Colab Notebooks/POLTECHNIQUE/Hiver2022/System de recommendation/TP1\"\n"
      ]
    },
    {
      "cell_type": "code",
      "execution_count": null,
      "metadata": {
        "id": "3wGkpZyO1n4Z"
      },
      "outputs": [],
      "source": [
        "# items \n",
        "items = pd.read_csv(os.path.join(PATH_DATA, 'items.csv'), sep='|')\n",
        "# users\n",
        "user = pd.read_csv(os.path.join(PATH_DATA, 'u.csv'), sep='|')\n",
        "# votes\n",
        "votes = pd.read_csv(os.path.join(PATH_DATA, 'votes.csv'), sep='|')"
      ]
    },
    {
      "cell_type": "code",
      "execution_count": null,
      "metadata": {
        "id": "4QSoWlkh2NzC",
        "colab": {
          "base_uri": "https://localhost:8080/",
          "height": 641
        },
        "outputId": "1773fcc2-5245-45e0-f542-498ac28d8cd0"
      },
      "outputs": [
        {
          "output_type": "execute_result",
          "data": {
            "text/plain": [
              "      movie id                                movie title   release date   \\\n",
              "0             1                           Toy Story (1995)    01-Jan-1995   \n",
              "1             2                           GoldenEye (1995)    01-Jan-1995   \n",
              "2             3                          Four Rooms (1995)    01-Jan-1995   \n",
              "3             4                          Get Shorty (1995)    01-Jan-1995   \n",
              "4             5                             Copycat (1995)    01-Jan-1995   \n",
              "...         ...                                        ...            ...   \n",
              "1677       1678                          Mat' i syn (1997)    06-Feb-1998   \n",
              "1678       1679                           B. Monkey (1998)    06-Feb-1998   \n",
              "1679       1680                       Sliding Doors (1998)    01-Jan-1998   \n",
              "1680       1681                        You So Crazy (1994)    01-Jan-1994   \n",
              "1681       1682  Scream of Stone (Schrei aus Stein) (1991)    08-Mar-1996   \n",
              "\n",
              "       video release date                                           IMDb URL   \\\n",
              "0                      NaN  http://us.imdb.com/M/title-exact?Toy%20Story%2...   \n",
              "1                      NaN  http://us.imdb.com/M/title-exact?GoldenEye%20(...   \n",
              "2                      NaN  http://us.imdb.com/M/title-exact?Four%20Rooms%...   \n",
              "3                      NaN  http://us.imdb.com/M/title-exact?Get%20Shorty%...   \n",
              "4                      NaN  http://us.imdb.com/M/title-exact?Copycat%20(1995)   \n",
              "...                    ...                                                ...   \n",
              "1677                   NaN  http://us.imdb.com/M/title-exact?Mat%27+i+syn+...   \n",
              "1678                   NaN  http://us.imdb.com/M/title-exact?B%2E+Monkey+(...   \n",
              "1679                   NaN      http://us.imdb.com/Title?Sliding+Doors+(1998)   \n",
              "1680                   NaN  http://us.imdb.com/M/title-exact?You%20So%20Cr...   \n",
              "1681                   NaN  http://us.imdb.com/M/title-exact?Schrei%20aus%...   \n",
              "\n",
              "       unknown    Action    Adventure    Animation    Children's   ...  \\\n",
              "0             0         0            0            1             1  ...   \n",
              "1             0         1            1            0             0  ...   \n",
              "2             0         0            0            0             0  ...   \n",
              "3             0         1            0            0             0  ...   \n",
              "4             0         0            0            0             0  ...   \n",
              "...         ...       ...          ...          ...           ...  ...   \n",
              "1677          0         0            0            0             0  ...   \n",
              "1678          0         0            0            0             0  ...   \n",
              "1679          0         0            0            0             0  ...   \n",
              "1680          0         0            0            0             0  ...   \n",
              "1681          0         0            0            0             0  ...   \n",
              "\n",
              "       Fantasy    Film-Noir    Horror    Musical    Mystery    Romance   \\\n",
              "0             0            0         0          0          0          0   \n",
              "1             0            0         0          0          0          0   \n",
              "2             0            0         0          0          0          0   \n",
              "3             0            0         0          0          0          0   \n",
              "4             0            0         0          0          0          0   \n",
              "...         ...          ...       ...        ...        ...        ...   \n",
              "1677          0            0         0          0          0          0   \n",
              "1678          0            0         0          0          0          1   \n",
              "1679          0            0         0          0          0          1   \n",
              "1680          0            0         0          0          0          0   \n",
              "1681          0            0         0          0          0          0   \n",
              "\n",
              "       Sci-Fi    Thriller    War    Western  \n",
              "0            0           0      0         0  \n",
              "1            0           1      0         0  \n",
              "2            0           1      0         0  \n",
              "3            0           0      0         0  \n",
              "4            0           1      0         0  \n",
              "...        ...         ...    ...       ...  \n",
              "1677         0           0      0         0  \n",
              "1678         0           1      0         0  \n",
              "1679         0           0      0         0  \n",
              "1680         0           0      0         0  \n",
              "1681         0           0      0         0  \n",
              "\n",
              "[1682 rows x 24 columns]"
            ],
            "text/html": [
              "\n",
              "  <div id=\"df-6db4ba09-dc24-4025-8d99-0ab396a1b20b\">\n",
              "    <div class=\"colab-df-container\">\n",
              "      <div>\n",
              "<style scoped>\n",
              "    .dataframe tbody tr th:only-of-type {\n",
              "        vertical-align: middle;\n",
              "    }\n",
              "\n",
              "    .dataframe tbody tr th {\n",
              "        vertical-align: top;\n",
              "    }\n",
              "\n",
              "    .dataframe thead th {\n",
              "        text-align: right;\n",
              "    }\n",
              "</style>\n",
              "<table border=\"1\" class=\"dataframe\">\n",
              "  <thead>\n",
              "    <tr style=\"text-align: right;\">\n",
              "      <th></th>\n",
              "      <th>movie id</th>\n",
              "      <th>movie title</th>\n",
              "      <th>release date</th>\n",
              "      <th>video release date</th>\n",
              "      <th>IMDb URL</th>\n",
              "      <th>unknown</th>\n",
              "      <th>Action</th>\n",
              "      <th>Adventure</th>\n",
              "      <th>Animation</th>\n",
              "      <th>Children's</th>\n",
              "      <th>...</th>\n",
              "      <th>Fantasy</th>\n",
              "      <th>Film-Noir</th>\n",
              "      <th>Horror</th>\n",
              "      <th>Musical</th>\n",
              "      <th>Mystery</th>\n",
              "      <th>Romance</th>\n",
              "      <th>Sci-Fi</th>\n",
              "      <th>Thriller</th>\n",
              "      <th>War</th>\n",
              "      <th>Western</th>\n",
              "    </tr>\n",
              "  </thead>\n",
              "  <tbody>\n",
              "    <tr>\n",
              "      <th>0</th>\n",
              "      <td>1</td>\n",
              "      <td>Toy Story (1995)</td>\n",
              "      <td>01-Jan-1995</td>\n",
              "      <td>NaN</td>\n",
              "      <td>http://us.imdb.com/M/title-exact?Toy%20Story%2...</td>\n",
              "      <td>0</td>\n",
              "      <td>0</td>\n",
              "      <td>0</td>\n",
              "      <td>1</td>\n",
              "      <td>1</td>\n",
              "      <td>...</td>\n",
              "      <td>0</td>\n",
              "      <td>0</td>\n",
              "      <td>0</td>\n",
              "      <td>0</td>\n",
              "      <td>0</td>\n",
              "      <td>0</td>\n",
              "      <td>0</td>\n",
              "      <td>0</td>\n",
              "      <td>0</td>\n",
              "      <td>0</td>\n",
              "    </tr>\n",
              "    <tr>\n",
              "      <th>1</th>\n",
              "      <td>2</td>\n",
              "      <td>GoldenEye (1995)</td>\n",
              "      <td>01-Jan-1995</td>\n",
              "      <td>NaN</td>\n",
              "      <td>http://us.imdb.com/M/title-exact?GoldenEye%20(...</td>\n",
              "      <td>0</td>\n",
              "      <td>1</td>\n",
              "      <td>1</td>\n",
              "      <td>0</td>\n",
              "      <td>0</td>\n",
              "      <td>...</td>\n",
              "      <td>0</td>\n",
              "      <td>0</td>\n",
              "      <td>0</td>\n",
              "      <td>0</td>\n",
              "      <td>0</td>\n",
              "      <td>0</td>\n",
              "      <td>0</td>\n",
              "      <td>1</td>\n",
              "      <td>0</td>\n",
              "      <td>0</td>\n",
              "    </tr>\n",
              "    <tr>\n",
              "      <th>2</th>\n",
              "      <td>3</td>\n",
              "      <td>Four Rooms (1995)</td>\n",
              "      <td>01-Jan-1995</td>\n",
              "      <td>NaN</td>\n",
              "      <td>http://us.imdb.com/M/title-exact?Four%20Rooms%...</td>\n",
              "      <td>0</td>\n",
              "      <td>0</td>\n",
              "      <td>0</td>\n",
              "      <td>0</td>\n",
              "      <td>0</td>\n",
              "      <td>...</td>\n",
              "      <td>0</td>\n",
              "      <td>0</td>\n",
              "      <td>0</td>\n",
              "      <td>0</td>\n",
              "      <td>0</td>\n",
              "      <td>0</td>\n",
              "      <td>0</td>\n",
              "      <td>1</td>\n",
              "      <td>0</td>\n",
              "      <td>0</td>\n",
              "    </tr>\n",
              "    <tr>\n",
              "      <th>3</th>\n",
              "      <td>4</td>\n",
              "      <td>Get Shorty (1995)</td>\n",
              "      <td>01-Jan-1995</td>\n",
              "      <td>NaN</td>\n",
              "      <td>http://us.imdb.com/M/title-exact?Get%20Shorty%...</td>\n",
              "      <td>0</td>\n",
              "      <td>1</td>\n",
              "      <td>0</td>\n",
              "      <td>0</td>\n",
              "      <td>0</td>\n",
              "      <td>...</td>\n",
              "      <td>0</td>\n",
              "      <td>0</td>\n",
              "      <td>0</td>\n",
              "      <td>0</td>\n",
              "      <td>0</td>\n",
              "      <td>0</td>\n",
              "      <td>0</td>\n",
              "      <td>0</td>\n",
              "      <td>0</td>\n",
              "      <td>0</td>\n",
              "    </tr>\n",
              "    <tr>\n",
              "      <th>4</th>\n",
              "      <td>5</td>\n",
              "      <td>Copycat (1995)</td>\n",
              "      <td>01-Jan-1995</td>\n",
              "      <td>NaN</td>\n",
              "      <td>http://us.imdb.com/M/title-exact?Copycat%20(1995)</td>\n",
              "      <td>0</td>\n",
              "      <td>0</td>\n",
              "      <td>0</td>\n",
              "      <td>0</td>\n",
              "      <td>0</td>\n",
              "      <td>...</td>\n",
              "      <td>0</td>\n",
              "      <td>0</td>\n",
              "      <td>0</td>\n",
              "      <td>0</td>\n",
              "      <td>0</td>\n",
              "      <td>0</td>\n",
              "      <td>0</td>\n",
              "      <td>1</td>\n",
              "      <td>0</td>\n",
              "      <td>0</td>\n",
              "    </tr>\n",
              "    <tr>\n",
              "      <th>...</th>\n",
              "      <td>...</td>\n",
              "      <td>...</td>\n",
              "      <td>...</td>\n",
              "      <td>...</td>\n",
              "      <td>...</td>\n",
              "      <td>...</td>\n",
              "      <td>...</td>\n",
              "      <td>...</td>\n",
              "      <td>...</td>\n",
              "      <td>...</td>\n",
              "      <td>...</td>\n",
              "      <td>...</td>\n",
              "      <td>...</td>\n",
              "      <td>...</td>\n",
              "      <td>...</td>\n",
              "      <td>...</td>\n",
              "      <td>...</td>\n",
              "      <td>...</td>\n",
              "      <td>...</td>\n",
              "      <td>...</td>\n",
              "      <td>...</td>\n",
              "    </tr>\n",
              "    <tr>\n",
              "      <th>1677</th>\n",
              "      <td>1678</td>\n",
              "      <td>Mat' i syn (1997)</td>\n",
              "      <td>06-Feb-1998</td>\n",
              "      <td>NaN</td>\n",
              "      <td>http://us.imdb.com/M/title-exact?Mat%27+i+syn+...</td>\n",
              "      <td>0</td>\n",
              "      <td>0</td>\n",
              "      <td>0</td>\n",
              "      <td>0</td>\n",
              "      <td>0</td>\n",
              "      <td>...</td>\n",
              "      <td>0</td>\n",
              "      <td>0</td>\n",
              "      <td>0</td>\n",
              "      <td>0</td>\n",
              "      <td>0</td>\n",
              "      <td>0</td>\n",
              "      <td>0</td>\n",
              "      <td>0</td>\n",
              "      <td>0</td>\n",
              "      <td>0</td>\n",
              "    </tr>\n",
              "    <tr>\n",
              "      <th>1678</th>\n",
              "      <td>1679</td>\n",
              "      <td>B. Monkey (1998)</td>\n",
              "      <td>06-Feb-1998</td>\n",
              "      <td>NaN</td>\n",
              "      <td>http://us.imdb.com/M/title-exact?B%2E+Monkey+(...</td>\n",
              "      <td>0</td>\n",
              "      <td>0</td>\n",
              "      <td>0</td>\n",
              "      <td>0</td>\n",
              "      <td>0</td>\n",
              "      <td>...</td>\n",
              "      <td>0</td>\n",
              "      <td>0</td>\n",
              "      <td>0</td>\n",
              "      <td>0</td>\n",
              "      <td>0</td>\n",
              "      <td>1</td>\n",
              "      <td>0</td>\n",
              "      <td>1</td>\n",
              "      <td>0</td>\n",
              "      <td>0</td>\n",
              "    </tr>\n",
              "    <tr>\n",
              "      <th>1679</th>\n",
              "      <td>1680</td>\n",
              "      <td>Sliding Doors (1998)</td>\n",
              "      <td>01-Jan-1998</td>\n",
              "      <td>NaN</td>\n",
              "      <td>http://us.imdb.com/Title?Sliding+Doors+(1998)</td>\n",
              "      <td>0</td>\n",
              "      <td>0</td>\n",
              "      <td>0</td>\n",
              "      <td>0</td>\n",
              "      <td>0</td>\n",
              "      <td>...</td>\n",
              "      <td>0</td>\n",
              "      <td>0</td>\n",
              "      <td>0</td>\n",
              "      <td>0</td>\n",
              "      <td>0</td>\n",
              "      <td>1</td>\n",
              "      <td>0</td>\n",
              "      <td>0</td>\n",
              "      <td>0</td>\n",
              "      <td>0</td>\n",
              "    </tr>\n",
              "    <tr>\n",
              "      <th>1680</th>\n",
              "      <td>1681</td>\n",
              "      <td>You So Crazy (1994)</td>\n",
              "      <td>01-Jan-1994</td>\n",
              "      <td>NaN</td>\n",
              "      <td>http://us.imdb.com/M/title-exact?You%20So%20Cr...</td>\n",
              "      <td>0</td>\n",
              "      <td>0</td>\n",
              "      <td>0</td>\n",
              "      <td>0</td>\n",
              "      <td>0</td>\n",
              "      <td>...</td>\n",
              "      <td>0</td>\n",
              "      <td>0</td>\n",
              "      <td>0</td>\n",
              "      <td>0</td>\n",
              "      <td>0</td>\n",
              "      <td>0</td>\n",
              "      <td>0</td>\n",
              "      <td>0</td>\n",
              "      <td>0</td>\n",
              "      <td>0</td>\n",
              "    </tr>\n",
              "    <tr>\n",
              "      <th>1681</th>\n",
              "      <td>1682</td>\n",
              "      <td>Scream of Stone (Schrei aus Stein) (1991)</td>\n",
              "      <td>08-Mar-1996</td>\n",
              "      <td>NaN</td>\n",
              "      <td>http://us.imdb.com/M/title-exact?Schrei%20aus%...</td>\n",
              "      <td>0</td>\n",
              "      <td>0</td>\n",
              "      <td>0</td>\n",
              "      <td>0</td>\n",
              "      <td>0</td>\n",
              "      <td>...</td>\n",
              "      <td>0</td>\n",
              "      <td>0</td>\n",
              "      <td>0</td>\n",
              "      <td>0</td>\n",
              "      <td>0</td>\n",
              "      <td>0</td>\n",
              "      <td>0</td>\n",
              "      <td>0</td>\n",
              "      <td>0</td>\n",
              "      <td>0</td>\n",
              "    </tr>\n",
              "  </tbody>\n",
              "</table>\n",
              "<p>1682 rows × 24 columns</p>\n",
              "</div>\n",
              "      <button class=\"colab-df-convert\" onclick=\"convertToInteractive('df-6db4ba09-dc24-4025-8d99-0ab396a1b20b')\"\n",
              "              title=\"Convert this dataframe to an interactive table.\"\n",
              "              style=\"display:none;\">\n",
              "        \n",
              "  <svg xmlns=\"http://www.w3.org/2000/svg\" height=\"24px\"viewBox=\"0 0 24 24\"\n",
              "       width=\"24px\">\n",
              "    <path d=\"M0 0h24v24H0V0z\" fill=\"none\"/>\n",
              "    <path d=\"M18.56 5.44l.94 2.06.94-2.06 2.06-.94-2.06-.94-.94-2.06-.94 2.06-2.06.94zm-11 1L8.5 8.5l.94-2.06 2.06-.94-2.06-.94L8.5 2.5l-.94 2.06-2.06.94zm10 10l.94 2.06.94-2.06 2.06-.94-2.06-.94-.94-2.06-.94 2.06-2.06.94z\"/><path d=\"M17.41 7.96l-1.37-1.37c-.4-.4-.92-.59-1.43-.59-.52 0-1.04.2-1.43.59L10.3 9.45l-7.72 7.72c-.78.78-.78 2.05 0 2.83L4 21.41c.39.39.9.59 1.41.59.51 0 1.02-.2 1.41-.59l7.78-7.78 2.81-2.81c.8-.78.8-2.07 0-2.86zM5.41 20L4 18.59l7.72-7.72 1.47 1.35L5.41 20z\"/>\n",
              "  </svg>\n",
              "      </button>\n",
              "      \n",
              "  <style>\n",
              "    .colab-df-container {\n",
              "      display:flex;\n",
              "      flex-wrap:wrap;\n",
              "      gap: 12px;\n",
              "    }\n",
              "\n",
              "    .colab-df-convert {\n",
              "      background-color: #E8F0FE;\n",
              "      border: none;\n",
              "      border-radius: 50%;\n",
              "      cursor: pointer;\n",
              "      display: none;\n",
              "      fill: #1967D2;\n",
              "      height: 32px;\n",
              "      padding: 0 0 0 0;\n",
              "      width: 32px;\n",
              "    }\n",
              "\n",
              "    .colab-df-convert:hover {\n",
              "      background-color: #E2EBFA;\n",
              "      box-shadow: 0px 1px 2px rgba(60, 64, 67, 0.3), 0px 1px 3px 1px rgba(60, 64, 67, 0.15);\n",
              "      fill: #174EA6;\n",
              "    }\n",
              "\n",
              "    [theme=dark] .colab-df-convert {\n",
              "      background-color: #3B4455;\n",
              "      fill: #D2E3FC;\n",
              "    }\n",
              "\n",
              "    [theme=dark] .colab-df-convert:hover {\n",
              "      background-color: #434B5C;\n",
              "      box-shadow: 0px 1px 3px 1px rgba(0, 0, 0, 0.15);\n",
              "      filter: drop-shadow(0px 1px 2px rgba(0, 0, 0, 0.3));\n",
              "      fill: #FFFFFF;\n",
              "    }\n",
              "  </style>\n",
              "\n",
              "      <script>\n",
              "        const buttonEl =\n",
              "          document.querySelector('#df-6db4ba09-dc24-4025-8d99-0ab396a1b20b button.colab-df-convert');\n",
              "        buttonEl.style.display =\n",
              "          google.colab.kernel.accessAllowed ? 'block' : 'none';\n",
              "\n",
              "        async function convertToInteractive(key) {\n",
              "          const element = document.querySelector('#df-6db4ba09-dc24-4025-8d99-0ab396a1b20b');\n",
              "          const dataTable =\n",
              "            await google.colab.kernel.invokeFunction('convertToInteractive',\n",
              "                                                     [key], {});\n",
              "          if (!dataTable) return;\n",
              "\n",
              "          const docLinkHtml = 'Like what you see? Visit the ' +\n",
              "            '<a target=\"_blank\" href=https://colab.research.google.com/notebooks/data_table.ipynb>data table notebook</a>'\n",
              "            + ' to learn more about interactive tables.';\n",
              "          element.innerHTML = '';\n",
              "          dataTable['output_type'] = 'display_data';\n",
              "          await google.colab.output.renderOutput(dataTable, element);\n",
              "          const docLink = document.createElement('div');\n",
              "          docLink.innerHTML = docLinkHtml;\n",
              "          element.appendChild(docLink);\n",
              "        }\n",
              "      </script>\n",
              "    </div>\n",
              "  </div>\n",
              "  "
            ]
          },
          "metadata": {},
          "execution_count": 5
        }
      ],
      "source": [
        "items"
      ]
    },
    {
      "cell_type": "code",
      "execution_count": null,
      "metadata": {
        "id": "TMUNLpeW2rzv",
        "colab": {
          "base_uri": "https://localhost:8080/",
          "height": 423
        },
        "outputId": "3fcc8174-48cd-4c2d-85f5-ee412be77b2d"
      },
      "outputs": [
        {
          "output_type": "execute_result",
          "data": {
            "text/plain": [
              "     id    age   gender            job     zip\n",
              "0      1     24        M     technician  85711\n",
              "1      2     53        F          other  94043\n",
              "2      3     23        M         writer  32067\n",
              "3      4     24        M     technician  43537\n",
              "4      5     33        F          other  15213\n",
              "..   ...    ...      ...            ...    ...\n",
              "938  939     26        F        student  33319\n",
              "939  940     32        M  administrator  02215\n",
              "940  941     20        M        student  97229\n",
              "941  942     48        F      librarian  78209\n",
              "942  943     22        M        student  77841\n",
              "\n",
              "[943 rows x 5 columns]"
            ],
            "text/html": [
              "\n",
              "  <div id=\"df-f9f31450-7a0c-434f-9903-3a58717e15dc\">\n",
              "    <div class=\"colab-df-container\">\n",
              "      <div>\n",
              "<style scoped>\n",
              "    .dataframe tbody tr th:only-of-type {\n",
              "        vertical-align: middle;\n",
              "    }\n",
              "\n",
              "    .dataframe tbody tr th {\n",
              "        vertical-align: top;\n",
              "    }\n",
              "\n",
              "    .dataframe thead th {\n",
              "        text-align: right;\n",
              "    }\n",
              "</style>\n",
              "<table border=\"1\" class=\"dataframe\">\n",
              "  <thead>\n",
              "    <tr style=\"text-align: right;\">\n",
              "      <th></th>\n",
              "      <th>id</th>\n",
              "      <th>age</th>\n",
              "      <th>gender</th>\n",
              "      <th>job</th>\n",
              "      <th>zip</th>\n",
              "    </tr>\n",
              "  </thead>\n",
              "  <tbody>\n",
              "    <tr>\n",
              "      <th>0</th>\n",
              "      <td>1</td>\n",
              "      <td>24</td>\n",
              "      <td>M</td>\n",
              "      <td>technician</td>\n",
              "      <td>85711</td>\n",
              "    </tr>\n",
              "    <tr>\n",
              "      <th>1</th>\n",
              "      <td>2</td>\n",
              "      <td>53</td>\n",
              "      <td>F</td>\n",
              "      <td>other</td>\n",
              "      <td>94043</td>\n",
              "    </tr>\n",
              "    <tr>\n",
              "      <th>2</th>\n",
              "      <td>3</td>\n",
              "      <td>23</td>\n",
              "      <td>M</td>\n",
              "      <td>writer</td>\n",
              "      <td>32067</td>\n",
              "    </tr>\n",
              "    <tr>\n",
              "      <th>3</th>\n",
              "      <td>4</td>\n",
              "      <td>24</td>\n",
              "      <td>M</td>\n",
              "      <td>technician</td>\n",
              "      <td>43537</td>\n",
              "    </tr>\n",
              "    <tr>\n",
              "      <th>4</th>\n",
              "      <td>5</td>\n",
              "      <td>33</td>\n",
              "      <td>F</td>\n",
              "      <td>other</td>\n",
              "      <td>15213</td>\n",
              "    </tr>\n",
              "    <tr>\n",
              "      <th>...</th>\n",
              "      <td>...</td>\n",
              "      <td>...</td>\n",
              "      <td>...</td>\n",
              "      <td>...</td>\n",
              "      <td>...</td>\n",
              "    </tr>\n",
              "    <tr>\n",
              "      <th>938</th>\n",
              "      <td>939</td>\n",
              "      <td>26</td>\n",
              "      <td>F</td>\n",
              "      <td>student</td>\n",
              "      <td>33319</td>\n",
              "    </tr>\n",
              "    <tr>\n",
              "      <th>939</th>\n",
              "      <td>940</td>\n",
              "      <td>32</td>\n",
              "      <td>M</td>\n",
              "      <td>administrator</td>\n",
              "      <td>02215</td>\n",
              "    </tr>\n",
              "    <tr>\n",
              "      <th>940</th>\n",
              "      <td>941</td>\n",
              "      <td>20</td>\n",
              "      <td>M</td>\n",
              "      <td>student</td>\n",
              "      <td>97229</td>\n",
              "    </tr>\n",
              "    <tr>\n",
              "      <th>941</th>\n",
              "      <td>942</td>\n",
              "      <td>48</td>\n",
              "      <td>F</td>\n",
              "      <td>librarian</td>\n",
              "      <td>78209</td>\n",
              "    </tr>\n",
              "    <tr>\n",
              "      <th>942</th>\n",
              "      <td>943</td>\n",
              "      <td>22</td>\n",
              "      <td>M</td>\n",
              "      <td>student</td>\n",
              "      <td>77841</td>\n",
              "    </tr>\n",
              "  </tbody>\n",
              "</table>\n",
              "<p>943 rows × 5 columns</p>\n",
              "</div>\n",
              "      <button class=\"colab-df-convert\" onclick=\"convertToInteractive('df-f9f31450-7a0c-434f-9903-3a58717e15dc')\"\n",
              "              title=\"Convert this dataframe to an interactive table.\"\n",
              "              style=\"display:none;\">\n",
              "        \n",
              "  <svg xmlns=\"http://www.w3.org/2000/svg\" height=\"24px\"viewBox=\"0 0 24 24\"\n",
              "       width=\"24px\">\n",
              "    <path d=\"M0 0h24v24H0V0z\" fill=\"none\"/>\n",
              "    <path d=\"M18.56 5.44l.94 2.06.94-2.06 2.06-.94-2.06-.94-.94-2.06-.94 2.06-2.06.94zm-11 1L8.5 8.5l.94-2.06 2.06-.94-2.06-.94L8.5 2.5l-.94 2.06-2.06.94zm10 10l.94 2.06.94-2.06 2.06-.94-2.06-.94-.94-2.06-.94 2.06-2.06.94z\"/><path d=\"M17.41 7.96l-1.37-1.37c-.4-.4-.92-.59-1.43-.59-.52 0-1.04.2-1.43.59L10.3 9.45l-7.72 7.72c-.78.78-.78 2.05 0 2.83L4 21.41c.39.39.9.59 1.41.59.51 0 1.02-.2 1.41-.59l7.78-7.78 2.81-2.81c.8-.78.8-2.07 0-2.86zM5.41 20L4 18.59l7.72-7.72 1.47 1.35L5.41 20z\"/>\n",
              "  </svg>\n",
              "      </button>\n",
              "      \n",
              "  <style>\n",
              "    .colab-df-container {\n",
              "      display:flex;\n",
              "      flex-wrap:wrap;\n",
              "      gap: 12px;\n",
              "    }\n",
              "\n",
              "    .colab-df-convert {\n",
              "      background-color: #E8F0FE;\n",
              "      border: none;\n",
              "      border-radius: 50%;\n",
              "      cursor: pointer;\n",
              "      display: none;\n",
              "      fill: #1967D2;\n",
              "      height: 32px;\n",
              "      padding: 0 0 0 0;\n",
              "      width: 32px;\n",
              "    }\n",
              "\n",
              "    .colab-df-convert:hover {\n",
              "      background-color: #E2EBFA;\n",
              "      box-shadow: 0px 1px 2px rgba(60, 64, 67, 0.3), 0px 1px 3px 1px rgba(60, 64, 67, 0.15);\n",
              "      fill: #174EA6;\n",
              "    }\n",
              "\n",
              "    [theme=dark] .colab-df-convert {\n",
              "      background-color: #3B4455;\n",
              "      fill: #D2E3FC;\n",
              "    }\n",
              "\n",
              "    [theme=dark] .colab-df-convert:hover {\n",
              "      background-color: #434B5C;\n",
              "      box-shadow: 0px 1px 3px 1px rgba(0, 0, 0, 0.15);\n",
              "      filter: drop-shadow(0px 1px 2px rgba(0, 0, 0, 0.3));\n",
              "      fill: #FFFFFF;\n",
              "    }\n",
              "  </style>\n",
              "\n",
              "      <script>\n",
              "        const buttonEl =\n",
              "          document.querySelector('#df-f9f31450-7a0c-434f-9903-3a58717e15dc button.colab-df-convert');\n",
              "        buttonEl.style.display =\n",
              "          google.colab.kernel.accessAllowed ? 'block' : 'none';\n",
              "\n",
              "        async function convertToInteractive(key) {\n",
              "          const element = document.querySelector('#df-f9f31450-7a0c-434f-9903-3a58717e15dc');\n",
              "          const dataTable =\n",
              "            await google.colab.kernel.invokeFunction('convertToInteractive',\n",
              "                                                     [key], {});\n",
              "          if (!dataTable) return;\n",
              "\n",
              "          const docLinkHtml = 'Like what you see? Visit the ' +\n",
              "            '<a target=\"_blank\" href=https://colab.research.google.com/notebooks/data_table.ipynb>data table notebook</a>'\n",
              "            + ' to learn more about interactive tables.';\n",
              "          element.innerHTML = '';\n",
              "          dataTable['output_type'] = 'display_data';\n",
              "          await google.colab.output.renderOutput(dataTable, element);\n",
              "          const docLink = document.createElement('div');\n",
              "          docLink.innerHTML = docLinkHtml;\n",
              "          element.appendChild(docLink);\n",
              "        }\n",
              "      </script>\n",
              "    </div>\n",
              "  </div>\n",
              "  "
            ]
          },
          "metadata": {},
          "execution_count": 6
        }
      ],
      "source": [
        "user"
      ]
    },
    {
      "cell_type": "code",
      "execution_count": null,
      "metadata": {
        "id": "-aE_Mobn2s4j",
        "colab": {
          "base_uri": "https://localhost:8080/",
          "height": 423
        },
        "outputId": "bf26912f-d646-4e27-efcd-50ec12857e78"
      },
      "outputs": [
        {
          "output_type": "execute_result",
          "data": {
            "text/plain": [
              "       user.id  item.id  rating  timestamp\n",
              "0          196      242       3  881250949\n",
              "1          186      302       3  891717742\n",
              "2           22      377       1  878887116\n",
              "3          244       51       2  880606923\n",
              "4          166      346       1  886397596\n",
              "...        ...      ...     ...        ...\n",
              "99995      880      476       3  880175444\n",
              "99996      716      204       5  879795543\n",
              "99997      276     1090       1  874795795\n",
              "99998       13      225       2  882399156\n",
              "99999       12      203       3  879959583\n",
              "\n",
              "[100000 rows x 4 columns]"
            ],
            "text/html": [
              "\n",
              "  <div id=\"df-e88aae03-983d-44ab-b8f0-b7e961d43d07\">\n",
              "    <div class=\"colab-df-container\">\n",
              "      <div>\n",
              "<style scoped>\n",
              "    .dataframe tbody tr th:only-of-type {\n",
              "        vertical-align: middle;\n",
              "    }\n",
              "\n",
              "    .dataframe tbody tr th {\n",
              "        vertical-align: top;\n",
              "    }\n",
              "\n",
              "    .dataframe thead th {\n",
              "        text-align: right;\n",
              "    }\n",
              "</style>\n",
              "<table border=\"1\" class=\"dataframe\">\n",
              "  <thead>\n",
              "    <tr style=\"text-align: right;\">\n",
              "      <th></th>\n",
              "      <th>user.id</th>\n",
              "      <th>item.id</th>\n",
              "      <th>rating</th>\n",
              "      <th>timestamp</th>\n",
              "    </tr>\n",
              "  </thead>\n",
              "  <tbody>\n",
              "    <tr>\n",
              "      <th>0</th>\n",
              "      <td>196</td>\n",
              "      <td>242</td>\n",
              "      <td>3</td>\n",
              "      <td>881250949</td>\n",
              "    </tr>\n",
              "    <tr>\n",
              "      <th>1</th>\n",
              "      <td>186</td>\n",
              "      <td>302</td>\n",
              "      <td>3</td>\n",
              "      <td>891717742</td>\n",
              "    </tr>\n",
              "    <tr>\n",
              "      <th>2</th>\n",
              "      <td>22</td>\n",
              "      <td>377</td>\n",
              "      <td>1</td>\n",
              "      <td>878887116</td>\n",
              "    </tr>\n",
              "    <tr>\n",
              "      <th>3</th>\n",
              "      <td>244</td>\n",
              "      <td>51</td>\n",
              "      <td>2</td>\n",
              "      <td>880606923</td>\n",
              "    </tr>\n",
              "    <tr>\n",
              "      <th>4</th>\n",
              "      <td>166</td>\n",
              "      <td>346</td>\n",
              "      <td>1</td>\n",
              "      <td>886397596</td>\n",
              "    </tr>\n",
              "    <tr>\n",
              "      <th>...</th>\n",
              "      <td>...</td>\n",
              "      <td>...</td>\n",
              "      <td>...</td>\n",
              "      <td>...</td>\n",
              "    </tr>\n",
              "    <tr>\n",
              "      <th>99995</th>\n",
              "      <td>880</td>\n",
              "      <td>476</td>\n",
              "      <td>3</td>\n",
              "      <td>880175444</td>\n",
              "    </tr>\n",
              "    <tr>\n",
              "      <th>99996</th>\n",
              "      <td>716</td>\n",
              "      <td>204</td>\n",
              "      <td>5</td>\n",
              "      <td>879795543</td>\n",
              "    </tr>\n",
              "    <tr>\n",
              "      <th>99997</th>\n",
              "      <td>276</td>\n",
              "      <td>1090</td>\n",
              "      <td>1</td>\n",
              "      <td>874795795</td>\n",
              "    </tr>\n",
              "    <tr>\n",
              "      <th>99998</th>\n",
              "      <td>13</td>\n",
              "      <td>225</td>\n",
              "      <td>2</td>\n",
              "      <td>882399156</td>\n",
              "    </tr>\n",
              "    <tr>\n",
              "      <th>99999</th>\n",
              "      <td>12</td>\n",
              "      <td>203</td>\n",
              "      <td>3</td>\n",
              "      <td>879959583</td>\n",
              "    </tr>\n",
              "  </tbody>\n",
              "</table>\n",
              "<p>100000 rows × 4 columns</p>\n",
              "</div>\n",
              "      <button class=\"colab-df-convert\" onclick=\"convertToInteractive('df-e88aae03-983d-44ab-b8f0-b7e961d43d07')\"\n",
              "              title=\"Convert this dataframe to an interactive table.\"\n",
              "              style=\"display:none;\">\n",
              "        \n",
              "  <svg xmlns=\"http://www.w3.org/2000/svg\" height=\"24px\"viewBox=\"0 0 24 24\"\n",
              "       width=\"24px\">\n",
              "    <path d=\"M0 0h24v24H0V0z\" fill=\"none\"/>\n",
              "    <path d=\"M18.56 5.44l.94 2.06.94-2.06 2.06-.94-2.06-.94-.94-2.06-.94 2.06-2.06.94zm-11 1L8.5 8.5l.94-2.06 2.06-.94-2.06-.94L8.5 2.5l-.94 2.06-2.06.94zm10 10l.94 2.06.94-2.06 2.06-.94-2.06-.94-.94-2.06-.94 2.06-2.06.94z\"/><path d=\"M17.41 7.96l-1.37-1.37c-.4-.4-.92-.59-1.43-.59-.52 0-1.04.2-1.43.59L10.3 9.45l-7.72 7.72c-.78.78-.78 2.05 0 2.83L4 21.41c.39.39.9.59 1.41.59.51 0 1.02-.2 1.41-.59l7.78-7.78 2.81-2.81c.8-.78.8-2.07 0-2.86zM5.41 20L4 18.59l7.72-7.72 1.47 1.35L5.41 20z\"/>\n",
              "  </svg>\n",
              "      </button>\n",
              "      \n",
              "  <style>\n",
              "    .colab-df-container {\n",
              "      display:flex;\n",
              "      flex-wrap:wrap;\n",
              "      gap: 12px;\n",
              "    }\n",
              "\n",
              "    .colab-df-convert {\n",
              "      background-color: #E8F0FE;\n",
              "      border: none;\n",
              "      border-radius: 50%;\n",
              "      cursor: pointer;\n",
              "      display: none;\n",
              "      fill: #1967D2;\n",
              "      height: 32px;\n",
              "      padding: 0 0 0 0;\n",
              "      width: 32px;\n",
              "    }\n",
              "\n",
              "    .colab-df-convert:hover {\n",
              "      background-color: #E2EBFA;\n",
              "      box-shadow: 0px 1px 2px rgba(60, 64, 67, 0.3), 0px 1px 3px 1px rgba(60, 64, 67, 0.15);\n",
              "      fill: #174EA6;\n",
              "    }\n",
              "\n",
              "    [theme=dark] .colab-df-convert {\n",
              "      background-color: #3B4455;\n",
              "      fill: #D2E3FC;\n",
              "    }\n",
              "\n",
              "    [theme=dark] .colab-df-convert:hover {\n",
              "      background-color: #434B5C;\n",
              "      box-shadow: 0px 1px 3px 1px rgba(0, 0, 0, 0.15);\n",
              "      filter: drop-shadow(0px 1px 2px rgba(0, 0, 0, 0.3));\n",
              "      fill: #FFFFFF;\n",
              "    }\n",
              "  </style>\n",
              "\n",
              "      <script>\n",
              "        const buttonEl =\n",
              "          document.querySelector('#df-e88aae03-983d-44ab-b8f0-b7e961d43d07 button.colab-df-convert');\n",
              "        buttonEl.style.display =\n",
              "          google.colab.kernel.accessAllowed ? 'block' : 'none';\n",
              "\n",
              "        async function convertToInteractive(key) {\n",
              "          const element = document.querySelector('#df-e88aae03-983d-44ab-b8f0-b7e961d43d07');\n",
              "          const dataTable =\n",
              "            await google.colab.kernel.invokeFunction('convertToInteractive',\n",
              "                                                     [key], {});\n",
              "          if (!dataTable) return;\n",
              "\n",
              "          const docLinkHtml = 'Like what you see? Visit the ' +\n",
              "            '<a target=\"_blank\" href=https://colab.research.google.com/notebooks/data_table.ipynb>data table notebook</a>'\n",
              "            + ' to learn more about interactive tables.';\n",
              "          element.innerHTML = '';\n",
              "          dataTable['output_type'] = 'display_data';\n",
              "          await google.colab.output.renderOutput(dataTable, element);\n",
              "          const docLink = document.createElement('div');\n",
              "          docLink.innerHTML = docLinkHtml;\n",
              "          element.appendChild(docLink);\n",
              "        }\n",
              "      </script>\n",
              "    </div>\n",
              "  </div>\n",
              "  "
            ]
          },
          "metadata": {},
          "execution_count": 7
        }
      ],
      "source": [
        "votes"
      ]
    },
    {
      "cell_type": "markdown",
      "metadata": {
        "id": "McKhqHD7qbaC"
      },
      "source": [
        "**création de matrice utilisateur-item**"
      ]
    },
    {
      "cell_type": "code",
      "execution_count": null,
      "metadata": {
        "id": "rUdCwP4KqXa5",
        "colab": {
          "base_uri": "https://localhost:8080/",
          "height": 454
        },
        "outputId": "7460509e-3216-4fa0-af6a-5a397e17775e"
      },
      "outputs": [
        {
          "output_type": "execute_result",
          "data": {
            "text/plain": [
              "item.id  1     2     3     4     5     6     7     8     9     10    ...  \\\n",
              "user.id                                                              ...   \n",
              "1         5.0   3.0   4.0   3.0   3.0   5.0   4.0   1.0   5.0   3.0  ...   \n",
              "2         4.0   NaN   NaN   NaN   NaN   NaN   NaN   NaN   NaN   2.0  ...   \n",
              "3         NaN   NaN   NaN   NaN   NaN   NaN   NaN   NaN   NaN   NaN  ...   \n",
              "4         NaN   NaN   NaN   NaN   NaN   NaN   NaN   NaN   NaN   NaN  ...   \n",
              "5         4.0   3.0   NaN   NaN   NaN   NaN   NaN   NaN   NaN   NaN  ...   \n",
              "...       ...   ...   ...   ...   ...   ...   ...   ...   ...   ...  ...   \n",
              "939       NaN   NaN   NaN   NaN   NaN   NaN   NaN   NaN   5.0   NaN  ...   \n",
              "940       NaN   NaN   NaN   2.0   NaN   NaN   4.0   5.0   3.0   NaN  ...   \n",
              "941       5.0   NaN   NaN   NaN   NaN   NaN   4.0   NaN   NaN   NaN  ...   \n",
              "942       NaN   NaN   NaN   NaN   NaN   NaN   NaN   NaN   NaN   NaN  ...   \n",
              "943       NaN   5.0   NaN   NaN   NaN   NaN   NaN   NaN   3.0   NaN  ...   \n",
              "\n",
              "item.id  1673  1674  1675  1676  1677  1678  1679  1680  1681  1682  \n",
              "user.id                                                              \n",
              "1         NaN   NaN   NaN   NaN   NaN   NaN   NaN   NaN   NaN   NaN  \n",
              "2         NaN   NaN   NaN   NaN   NaN   NaN   NaN   NaN   NaN   NaN  \n",
              "3         NaN   NaN   NaN   NaN   NaN   NaN   NaN   NaN   NaN   NaN  \n",
              "4         NaN   NaN   NaN   NaN   NaN   NaN   NaN   NaN   NaN   NaN  \n",
              "5         NaN   NaN   NaN   NaN   NaN   NaN   NaN   NaN   NaN   NaN  \n",
              "...       ...   ...   ...   ...   ...   ...   ...   ...   ...   ...  \n",
              "939       NaN   NaN   NaN   NaN   NaN   NaN   NaN   NaN   NaN   NaN  \n",
              "940       NaN   NaN   NaN   NaN   NaN   NaN   NaN   NaN   NaN   NaN  \n",
              "941       NaN   NaN   NaN   NaN   NaN   NaN   NaN   NaN   NaN   NaN  \n",
              "942       NaN   NaN   NaN   NaN   NaN   NaN   NaN   NaN   NaN   NaN  \n",
              "943       NaN   NaN   NaN   NaN   NaN   NaN   NaN   NaN   NaN   NaN  \n",
              "\n",
              "[943 rows x 1682 columns]"
            ],
            "text/html": [
              "\n",
              "  <div id=\"df-6d807cb4-f21a-487a-9ee0-da18850200ec\">\n",
              "    <div class=\"colab-df-container\">\n",
              "      <div>\n",
              "<style scoped>\n",
              "    .dataframe tbody tr th:only-of-type {\n",
              "        vertical-align: middle;\n",
              "    }\n",
              "\n",
              "    .dataframe tbody tr th {\n",
              "        vertical-align: top;\n",
              "    }\n",
              "\n",
              "    .dataframe thead th {\n",
              "        text-align: right;\n",
              "    }\n",
              "</style>\n",
              "<table border=\"1\" class=\"dataframe\">\n",
              "  <thead>\n",
              "    <tr style=\"text-align: right;\">\n",
              "      <th>item.id</th>\n",
              "      <th>1</th>\n",
              "      <th>2</th>\n",
              "      <th>3</th>\n",
              "      <th>4</th>\n",
              "      <th>5</th>\n",
              "      <th>6</th>\n",
              "      <th>7</th>\n",
              "      <th>8</th>\n",
              "      <th>9</th>\n",
              "      <th>10</th>\n",
              "      <th>...</th>\n",
              "      <th>1673</th>\n",
              "      <th>1674</th>\n",
              "      <th>1675</th>\n",
              "      <th>1676</th>\n",
              "      <th>1677</th>\n",
              "      <th>1678</th>\n",
              "      <th>1679</th>\n",
              "      <th>1680</th>\n",
              "      <th>1681</th>\n",
              "      <th>1682</th>\n",
              "    </tr>\n",
              "    <tr>\n",
              "      <th>user.id</th>\n",
              "      <th></th>\n",
              "      <th></th>\n",
              "      <th></th>\n",
              "      <th></th>\n",
              "      <th></th>\n",
              "      <th></th>\n",
              "      <th></th>\n",
              "      <th></th>\n",
              "      <th></th>\n",
              "      <th></th>\n",
              "      <th></th>\n",
              "      <th></th>\n",
              "      <th></th>\n",
              "      <th></th>\n",
              "      <th></th>\n",
              "      <th></th>\n",
              "      <th></th>\n",
              "      <th></th>\n",
              "      <th></th>\n",
              "      <th></th>\n",
              "      <th></th>\n",
              "    </tr>\n",
              "  </thead>\n",
              "  <tbody>\n",
              "    <tr>\n",
              "      <th>1</th>\n",
              "      <td>5.0</td>\n",
              "      <td>3.0</td>\n",
              "      <td>4.0</td>\n",
              "      <td>3.0</td>\n",
              "      <td>3.0</td>\n",
              "      <td>5.0</td>\n",
              "      <td>4.0</td>\n",
              "      <td>1.0</td>\n",
              "      <td>5.0</td>\n",
              "      <td>3.0</td>\n",
              "      <td>...</td>\n",
              "      <td>NaN</td>\n",
              "      <td>NaN</td>\n",
              "      <td>NaN</td>\n",
              "      <td>NaN</td>\n",
              "      <td>NaN</td>\n",
              "      <td>NaN</td>\n",
              "      <td>NaN</td>\n",
              "      <td>NaN</td>\n",
              "      <td>NaN</td>\n",
              "      <td>NaN</td>\n",
              "    </tr>\n",
              "    <tr>\n",
              "      <th>2</th>\n",
              "      <td>4.0</td>\n",
              "      <td>NaN</td>\n",
              "      <td>NaN</td>\n",
              "      <td>NaN</td>\n",
              "      <td>NaN</td>\n",
              "      <td>NaN</td>\n",
              "      <td>NaN</td>\n",
              "      <td>NaN</td>\n",
              "      <td>NaN</td>\n",
              "      <td>2.0</td>\n",
              "      <td>...</td>\n",
              "      <td>NaN</td>\n",
              "      <td>NaN</td>\n",
              "      <td>NaN</td>\n",
              "      <td>NaN</td>\n",
              "      <td>NaN</td>\n",
              "      <td>NaN</td>\n",
              "      <td>NaN</td>\n",
              "      <td>NaN</td>\n",
              "      <td>NaN</td>\n",
              "      <td>NaN</td>\n",
              "    </tr>\n",
              "    <tr>\n",
              "      <th>3</th>\n",
              "      <td>NaN</td>\n",
              "      <td>NaN</td>\n",
              "      <td>NaN</td>\n",
              "      <td>NaN</td>\n",
              "      <td>NaN</td>\n",
              "      <td>NaN</td>\n",
              "      <td>NaN</td>\n",
              "      <td>NaN</td>\n",
              "      <td>NaN</td>\n",
              "      <td>NaN</td>\n",
              "      <td>...</td>\n",
              "      <td>NaN</td>\n",
              "      <td>NaN</td>\n",
              "      <td>NaN</td>\n",
              "      <td>NaN</td>\n",
              "      <td>NaN</td>\n",
              "      <td>NaN</td>\n",
              "      <td>NaN</td>\n",
              "      <td>NaN</td>\n",
              "      <td>NaN</td>\n",
              "      <td>NaN</td>\n",
              "    </tr>\n",
              "    <tr>\n",
              "      <th>4</th>\n",
              "      <td>NaN</td>\n",
              "      <td>NaN</td>\n",
              "      <td>NaN</td>\n",
              "      <td>NaN</td>\n",
              "      <td>NaN</td>\n",
              "      <td>NaN</td>\n",
              "      <td>NaN</td>\n",
              "      <td>NaN</td>\n",
              "      <td>NaN</td>\n",
              "      <td>NaN</td>\n",
              "      <td>...</td>\n",
              "      <td>NaN</td>\n",
              "      <td>NaN</td>\n",
              "      <td>NaN</td>\n",
              "      <td>NaN</td>\n",
              "      <td>NaN</td>\n",
              "      <td>NaN</td>\n",
              "      <td>NaN</td>\n",
              "      <td>NaN</td>\n",
              "      <td>NaN</td>\n",
              "      <td>NaN</td>\n",
              "    </tr>\n",
              "    <tr>\n",
              "      <th>5</th>\n",
              "      <td>4.0</td>\n",
              "      <td>3.0</td>\n",
              "      <td>NaN</td>\n",
              "      <td>NaN</td>\n",
              "      <td>NaN</td>\n",
              "      <td>NaN</td>\n",
              "      <td>NaN</td>\n",
              "      <td>NaN</td>\n",
              "      <td>NaN</td>\n",
              "      <td>NaN</td>\n",
              "      <td>...</td>\n",
              "      <td>NaN</td>\n",
              "      <td>NaN</td>\n",
              "      <td>NaN</td>\n",
              "      <td>NaN</td>\n",
              "      <td>NaN</td>\n",
              "      <td>NaN</td>\n",
              "      <td>NaN</td>\n",
              "      <td>NaN</td>\n",
              "      <td>NaN</td>\n",
              "      <td>NaN</td>\n",
              "    </tr>\n",
              "    <tr>\n",
              "      <th>...</th>\n",
              "      <td>...</td>\n",
              "      <td>...</td>\n",
              "      <td>...</td>\n",
              "      <td>...</td>\n",
              "      <td>...</td>\n",
              "      <td>...</td>\n",
              "      <td>...</td>\n",
              "      <td>...</td>\n",
              "      <td>...</td>\n",
              "      <td>...</td>\n",
              "      <td>...</td>\n",
              "      <td>...</td>\n",
              "      <td>...</td>\n",
              "      <td>...</td>\n",
              "      <td>...</td>\n",
              "      <td>...</td>\n",
              "      <td>...</td>\n",
              "      <td>...</td>\n",
              "      <td>...</td>\n",
              "      <td>...</td>\n",
              "      <td>...</td>\n",
              "    </tr>\n",
              "    <tr>\n",
              "      <th>939</th>\n",
              "      <td>NaN</td>\n",
              "      <td>NaN</td>\n",
              "      <td>NaN</td>\n",
              "      <td>NaN</td>\n",
              "      <td>NaN</td>\n",
              "      <td>NaN</td>\n",
              "      <td>NaN</td>\n",
              "      <td>NaN</td>\n",
              "      <td>5.0</td>\n",
              "      <td>NaN</td>\n",
              "      <td>...</td>\n",
              "      <td>NaN</td>\n",
              "      <td>NaN</td>\n",
              "      <td>NaN</td>\n",
              "      <td>NaN</td>\n",
              "      <td>NaN</td>\n",
              "      <td>NaN</td>\n",
              "      <td>NaN</td>\n",
              "      <td>NaN</td>\n",
              "      <td>NaN</td>\n",
              "      <td>NaN</td>\n",
              "    </tr>\n",
              "    <tr>\n",
              "      <th>940</th>\n",
              "      <td>NaN</td>\n",
              "      <td>NaN</td>\n",
              "      <td>NaN</td>\n",
              "      <td>2.0</td>\n",
              "      <td>NaN</td>\n",
              "      <td>NaN</td>\n",
              "      <td>4.0</td>\n",
              "      <td>5.0</td>\n",
              "      <td>3.0</td>\n",
              "      <td>NaN</td>\n",
              "      <td>...</td>\n",
              "      <td>NaN</td>\n",
              "      <td>NaN</td>\n",
              "      <td>NaN</td>\n",
              "      <td>NaN</td>\n",
              "      <td>NaN</td>\n",
              "      <td>NaN</td>\n",
              "      <td>NaN</td>\n",
              "      <td>NaN</td>\n",
              "      <td>NaN</td>\n",
              "      <td>NaN</td>\n",
              "    </tr>\n",
              "    <tr>\n",
              "      <th>941</th>\n",
              "      <td>5.0</td>\n",
              "      <td>NaN</td>\n",
              "      <td>NaN</td>\n",
              "      <td>NaN</td>\n",
              "      <td>NaN</td>\n",
              "      <td>NaN</td>\n",
              "      <td>4.0</td>\n",
              "      <td>NaN</td>\n",
              "      <td>NaN</td>\n",
              "      <td>NaN</td>\n",
              "      <td>...</td>\n",
              "      <td>NaN</td>\n",
              "      <td>NaN</td>\n",
              "      <td>NaN</td>\n",
              "      <td>NaN</td>\n",
              "      <td>NaN</td>\n",
              "      <td>NaN</td>\n",
              "      <td>NaN</td>\n",
              "      <td>NaN</td>\n",
              "      <td>NaN</td>\n",
              "      <td>NaN</td>\n",
              "    </tr>\n",
              "    <tr>\n",
              "      <th>942</th>\n",
              "      <td>NaN</td>\n",
              "      <td>NaN</td>\n",
              "      <td>NaN</td>\n",
              "      <td>NaN</td>\n",
              "      <td>NaN</td>\n",
              "      <td>NaN</td>\n",
              "      <td>NaN</td>\n",
              "      <td>NaN</td>\n",
              "      <td>NaN</td>\n",
              "      <td>NaN</td>\n",
              "      <td>...</td>\n",
              "      <td>NaN</td>\n",
              "      <td>NaN</td>\n",
              "      <td>NaN</td>\n",
              "      <td>NaN</td>\n",
              "      <td>NaN</td>\n",
              "      <td>NaN</td>\n",
              "      <td>NaN</td>\n",
              "      <td>NaN</td>\n",
              "      <td>NaN</td>\n",
              "      <td>NaN</td>\n",
              "    </tr>\n",
              "    <tr>\n",
              "      <th>943</th>\n",
              "      <td>NaN</td>\n",
              "      <td>5.0</td>\n",
              "      <td>NaN</td>\n",
              "      <td>NaN</td>\n",
              "      <td>NaN</td>\n",
              "      <td>NaN</td>\n",
              "      <td>NaN</td>\n",
              "      <td>NaN</td>\n",
              "      <td>3.0</td>\n",
              "      <td>NaN</td>\n",
              "      <td>...</td>\n",
              "      <td>NaN</td>\n",
              "      <td>NaN</td>\n",
              "      <td>NaN</td>\n",
              "      <td>NaN</td>\n",
              "      <td>NaN</td>\n",
              "      <td>NaN</td>\n",
              "      <td>NaN</td>\n",
              "      <td>NaN</td>\n",
              "      <td>NaN</td>\n",
              "      <td>NaN</td>\n",
              "    </tr>\n",
              "  </tbody>\n",
              "</table>\n",
              "<p>943 rows × 1682 columns</p>\n",
              "</div>\n",
              "      <button class=\"colab-df-convert\" onclick=\"convertToInteractive('df-6d807cb4-f21a-487a-9ee0-da18850200ec')\"\n",
              "              title=\"Convert this dataframe to an interactive table.\"\n",
              "              style=\"display:none;\">\n",
              "        \n",
              "  <svg xmlns=\"http://www.w3.org/2000/svg\" height=\"24px\"viewBox=\"0 0 24 24\"\n",
              "       width=\"24px\">\n",
              "    <path d=\"M0 0h24v24H0V0z\" fill=\"none\"/>\n",
              "    <path d=\"M18.56 5.44l.94 2.06.94-2.06 2.06-.94-2.06-.94-.94-2.06-.94 2.06-2.06.94zm-11 1L8.5 8.5l.94-2.06 2.06-.94-2.06-.94L8.5 2.5l-.94 2.06-2.06.94zm10 10l.94 2.06.94-2.06 2.06-.94-2.06-.94-.94-2.06-.94 2.06-2.06.94z\"/><path d=\"M17.41 7.96l-1.37-1.37c-.4-.4-.92-.59-1.43-.59-.52 0-1.04.2-1.43.59L10.3 9.45l-7.72 7.72c-.78.78-.78 2.05 0 2.83L4 21.41c.39.39.9.59 1.41.59.51 0 1.02-.2 1.41-.59l7.78-7.78 2.81-2.81c.8-.78.8-2.07 0-2.86zM5.41 20L4 18.59l7.72-7.72 1.47 1.35L5.41 20z\"/>\n",
              "  </svg>\n",
              "      </button>\n",
              "      \n",
              "  <style>\n",
              "    .colab-df-container {\n",
              "      display:flex;\n",
              "      flex-wrap:wrap;\n",
              "      gap: 12px;\n",
              "    }\n",
              "\n",
              "    .colab-df-convert {\n",
              "      background-color: #E8F0FE;\n",
              "      border: none;\n",
              "      border-radius: 50%;\n",
              "      cursor: pointer;\n",
              "      display: none;\n",
              "      fill: #1967D2;\n",
              "      height: 32px;\n",
              "      padding: 0 0 0 0;\n",
              "      width: 32px;\n",
              "    }\n",
              "\n",
              "    .colab-df-convert:hover {\n",
              "      background-color: #E2EBFA;\n",
              "      box-shadow: 0px 1px 2px rgba(60, 64, 67, 0.3), 0px 1px 3px 1px rgba(60, 64, 67, 0.15);\n",
              "      fill: #174EA6;\n",
              "    }\n",
              "\n",
              "    [theme=dark] .colab-df-convert {\n",
              "      background-color: #3B4455;\n",
              "      fill: #D2E3FC;\n",
              "    }\n",
              "\n",
              "    [theme=dark] .colab-df-convert:hover {\n",
              "      background-color: #434B5C;\n",
              "      box-shadow: 0px 1px 3px 1px rgba(0, 0, 0, 0.15);\n",
              "      filter: drop-shadow(0px 1px 2px rgba(0, 0, 0, 0.3));\n",
              "      fill: #FFFFFF;\n",
              "    }\n",
              "  </style>\n",
              "\n",
              "      <script>\n",
              "        const buttonEl =\n",
              "          document.querySelector('#df-6d807cb4-f21a-487a-9ee0-da18850200ec button.colab-df-convert');\n",
              "        buttonEl.style.display =\n",
              "          google.colab.kernel.accessAllowed ? 'block' : 'none';\n",
              "\n",
              "        async function convertToInteractive(key) {\n",
              "          const element = document.querySelector('#df-6d807cb4-f21a-487a-9ee0-da18850200ec');\n",
              "          const dataTable =\n",
              "            await google.colab.kernel.invokeFunction('convertToInteractive',\n",
              "                                                     [key], {});\n",
              "          if (!dataTable) return;\n",
              "\n",
              "          const docLinkHtml = 'Like what you see? Visit the ' +\n",
              "            '<a target=\"_blank\" href=https://colab.research.google.com/notebooks/data_table.ipynb>data table notebook</a>'\n",
              "            + ' to learn more about interactive tables.';\n",
              "          element.innerHTML = '';\n",
              "          dataTable['output_type'] = 'display_data';\n",
              "          await google.colab.output.renderOutput(dataTable, element);\n",
              "          const docLink = document.createElement('div');\n",
              "          docLink.innerHTML = docLinkHtml;\n",
              "          element.appendChild(docLink);\n",
              "        }\n",
              "      </script>\n",
              "    </div>\n",
              "  </div>\n",
              "  "
            ]
          },
          "metadata": {},
          "execution_count": 8
        }
      ],
      "source": [
        "user_item=votes.pivot(index=\"user.id\", columns=\"item.id\", values=\"rating\")\n",
        "user_item"
      ]
    },
    {
      "cell_type": "markdown",
      "metadata": {
        "id": "MQQafalk-TY4"
      },
      "source": [
        "# Question 1"
      ]
    },
    {
      "cell_type": "code",
      "execution_count": null,
      "metadata": {
        "id": "d2MqK_jaaKAA"
      },
      "outputs": [],
      "source": [
        "#fonction to calculate MSE \n",
        "def MSE(prediction, target):  \n",
        "    return (((prediction - target) ** 2).mean())"
      ]
    },
    {
      "cell_type": "markdown",
      "metadata": {
        "id": "YKBKhP4OWle-"
      },
      "source": [
        "## 1.1- Without cross validation"
      ]
    },
    {
      "cell_type": "code",
      "execution_count": null,
      "metadata": {
        "id": "5KoctNmv-aHV"
      },
      "outputs": [],
      "source": [
        "#function to create a dataframe of the mean of rating based on grouping different columns as criteria (e.g. \"user.id\", \"item.id\")\n",
        "def calculate_mean(df, criteria_column,rating_column):\n",
        "  df_mean=df.groupby(df[criteria_column]).agg({rating_column:['mean']}).reset_index() #grouping similar ids (user or item depending on the input) and calculating mean of rating\n",
        "  df_mean.columns=[criteria_column, rating_column+\".predict\"] #renaming column as \"rating.predict\" to be more readable\n",
        "  df_mean_criteria=df.merge(df_mean,on=criteria_column) #merging the created dataframe with original dataframe (\"votes\") to have a prediction and reported results\n",
        "  return df_mean_criteria"
      ]
    },
    {
      "cell_type": "code",
      "execution_count": null,
      "metadata": {
        "colab": {
          "base_uri": "https://localhost:8080/"
        },
        "id": "V8u2Pld1fxba",
        "outputId": "9f13e08a-0f7a-404f-f180-5db02bf985ab"
      },
      "outputs": [
        {
          "output_type": "stream",
          "name": "stdout",
          "text": [
            "error of random vote without cross validation: 2.52662\n",
            "error of total mean vote without cross validation: 1.2671283803995788\n",
            "error of mean vote of user without cross validation: 1.0625729554387353\n",
            "error of mean vote of item without cross validation: 1.0001400439578285\n",
            "error of expected vote with cross validation: 0.9347196188908814\n"
          ]
        }
      ],
      "source": [
        "def mean_without_cross_validation(df):\n",
        "  #  random vote\n",
        "  # distribution of original rating was used to avoid bias due to distribution\n",
        "  random.seed(10)\n",
        "  df_random=pd.DataFrame(random.sample(list(df[\"rating\"]),len(df[\"rating\"]))) # random sampling of \"rating\" column\n",
        "  err_random=MSE(df_random[0],df[\"rating\"]) #calculate error by MSE function\n",
        "  print(\"error of random vote without cross validation:\",  err_random)\n",
        "\n",
        "   #mean of all votes\n",
        "  err_globalMean=MSE(df[\"rating\"].mean(),df[\"rating\"]) #calculate error by MSE function\n",
        "  print(\"error of total mean vote without cross validation:\",  err_globalMean)\n",
        "  #mean vote of users\n",
        "  df_user_mean=calculate_mean(votes,\"user.id\",\"rating\" )\n",
        "  err_userMean=MSE(df_user_mean[\"rating.predict\"],df_user_mean[\"rating\"]) #calculate error by MSE function\n",
        "  print(\"error of mean vote of user without cross validation:\",  err_userMean)\n",
        "  # mean vote of items\n",
        "  df_item_mean=calculate_mean(df,\"item.id\",\"rating\" )\n",
        "  err_UserMean=MSE(df_item_mean[\"rating.predict\"],df_item_mean[\"rating\"]) #calculate error by MSE function\n",
        "  print(\"error of mean vote of item without cross validation:\",  err_UserMean)\n",
        "  # expected vote\n",
        "  df_expected_mean=pd.merge(df_user_mean,df_item_mean,on=[\"user.id\",\"item.id\",\"rating\"])\n",
        "  df_expected_mean[\"rating.predict.expected\"]=df_expected_mean[[\"rating.predict_x\",\"rating.predict_y\"]].mean(axis=1)\n",
        "\n",
        "  err_expectMean=MSE(df_expected_mean[\"rating.predict.expected\"],df_expected_mean[\"rating\"]) #calculate error by MSE function\n",
        "  print(\"error of expected vote with cross validation:\",  err_expectMean)\n",
        "  # return df_item_mean\n",
        "\n",
        "df_item_mean=mean_without_cross_validation(votes[[\"user.id\",\"item.id\",\"rating\"]]) "
      ]
    },
    {
      "cell_type": "markdown",
      "metadata": {
        "id": "XdeST2O1-oLG"
      },
      "source": [
        "# 1.2- With 10-fold cross validation"
      ]
    },
    {
      "cell_type": "code",
      "execution_count": null,
      "metadata": {
        "id": "3w3-1PlwtlrU"
      },
      "outputs": [],
      "source": [
        "#function to create a dataframe of the mean of rating based on grouping different columns as criteria (e.g. \"user.id\", \"item.id\")\n",
        "def calculate_mean_cross_valid(df_train,df_valid, criteria_column,rating_column):\n",
        "  df_mean=df_train.groupby(df_train[criteria_column]).agg({rating_column:['mean']}).reset_index() #grouping similar ids (user or item depending on the input) and calculating mean of rating\n",
        "  df_mean.columns=[criteria_column, rating_column+\".predict\"] #renaming column as \"rating.predict\" to be more readable\n",
        "  df_mean_criteria=pd.merge(df_valid,df_mean,on=criteria_column) #merging the created dataframe with original dataframe (\"votes\") to have a prediction and reported results\n",
        "  # df_mean_criteria[rating_column+\".predict\"].fillna((df_mean_criteria[rating_column+\".predict\"].mean()), inplace=True) #replace NaN (missing) values with the mean of column\n",
        "  return df_mean_criteria"
      ]
    },
    {
      "cell_type": "code",
      "execution_count": null,
      "metadata": {
        "colab": {
          "base_uri": "https://localhost:8080/"
        },
        "id": "0WvCQPKCD8A4",
        "outputId": "4e6976b3-4932-408c-d220-24f7718403ec"
      },
      "outputs": [
        {
          "output_type": "stream",
          "name": "stderr",
          "text": [
            "/usr/local/lib/python3.7/dist-packages/numpy/core/fromnumeric.py:3724: RuntimeWarning: Degrees of freedom <= 0 for slice\n",
            "  **kwargs)\n",
            "/usr/local/lib/python3.7/dist-packages/numpy/core/_methods.py:254: RuntimeWarning: invalid value encountered in double_scalars\n",
            "  ret = ret.dtype.type(ret / rcount)\n"
          ]
        },
        {
          "output_type": "stream",
          "name": "stdout",
          "text": [
            "error of random vote with cross validation: 2.53785\n",
            "error of total mean vote with cross validation: 1.2671682096543104\n",
            "error of mean vote of user with cross validation: 1.08473758097675\n",
            "error of mean vote of item with cross validation: 1.0437939454848935\n",
            "error of expected vote with cross validation: 0.9632807387106957\n",
            "p-value between MSE of user mean and MSE of item mean: 3.1279291792222896e-08\n",
            "Duration of execution of code: 0:00:01.199526\n"
          ]
        }
      ],
      "source": [
        "start_time = datetime.now()\n",
        "def mean_cross_validation(df,fold=10):\n",
        "  df = df.sample(frac = 1,random_state=1) #shuffling the dataframe to make cross-validation randomize\n",
        "  err_random_list=[]\n",
        "  err_globalMean_list=[]\n",
        "  err_userMean_list=[]\n",
        "  err_itemMean_list=[]\n",
        "  rating_item_list=[]\n",
        "  rating_user_list=[]\n",
        "  err_expectMean_list=[]\n",
        "  df_result=pd.DataFrame()\n",
        "  # err_expectMean_list=[]\n",
        "  p_values=[]\n",
        "  error_list=[]\n",
        "\n",
        "\n",
        "  for i in range(fold):\n",
        "    #creating validation and training datasets\n",
        "    df_valid=df.iloc[int(len(df.index)*i*1/fold):int(len(df.index)*(i+1)*1/fold)] #validation chunk\n",
        "    df_train=df.drop(df_valid.index) # creating training chunk by removing valiation index from original df\n",
        "    df_valid=df_valid.reset_index(drop=True) # reindexing validation set to start from 0\n",
        "\n",
        "    #Random rating\n",
        "    random.seed(10)\n",
        "    df_pred=pd.DataFrame(random.sample(list(df_train[\"rating\"]),len(df_valid[\"rating\"]))) # creating a prediction dataframe by random selection of \"rating\" from training chunk with the length of validation chunk\n",
        "    df_pred.columns=[\"rating.predict.random\"] #renaming the column of prediction dataframe\n",
        "    err_random_list.append(MSE(df_pred[\"rating.predict.random\"],df_valid[\"rating\"])) #calculate error using function MSE\n",
        "\n",
        "    #total Mean of ratings\n",
        "    df_pred[\"rating.predict.globalMean\"]=df_train[\"rating\"].mean() #adding new column of for prediction of rating based on mean of \"rating\"\n",
        "    err_globalMean_list.append(MSE(df_pred[\"rating.predict.globalMean\"],df_valid[\"rating\"])) #calculate error based on MSE function\n",
        "\n",
        "    #User rating Mean\n",
        "    df_user_mean=calculate_mean_cross_valid(df_train,df_valid,\"user.id\",\"rating\" )\n",
        "    err_userMean_list.append(MSE(df_user_mean[\"rating.predict\"],df_user_mean[\"rating\"])) #calculate error using function MSE\n",
        "\n",
        "    #item rating Mean\n",
        "    df_item_mean=calculate_mean_cross_valid(df_train,df_valid,\"item.id\",\"rating\" )\n",
        "    err_itemMean_list.append(MSE(df_item_mean[\"rating.predict\"],df_item_mean[\"rating\"])) #calculate error using function MSE\n",
        "\n",
        "    #mean of user mean and item mean\n",
        "    df_expected_mean=pd.merge(df_user_mean,df_item_mean,how=\"left\",on=[\"user.id\",\"item.id\",\"rating\"],suffixes=('.user', '.item')) #merging two previous dataframes (user_mean and item_mean)\n",
        "\n",
        "    #there are 160 items with 1 vote, therefore it is not possible to create mean in the training dataset for them, I filled these items with mean of users vote\n",
        "    df_expected_mean['rating.predict.item'].fillna(df_expected_mean['rating.predict.user'], inplace=True) #filled NaN values in the user mean\n",
        "    df_expected_mean[\"rating.predict.expected\"]=df_expected_mean[[\"rating.predict.user\",\"rating.predict.item\"]].mean(axis=1) #creating a column for the expected of user and item\n",
        "    err_expectMean_list.append(MSE(df_expected_mean[\"rating.predict.expected\"],df_expected_mean[\"rating\"])) #calculate error using function MSE\n",
        "\n",
        "    #adding the result to the final df this df is just to observe the results of user mean,item mean and expected mean for future use or visualizations\n",
        "    df_result=pd.concat([df_result,df_expected_mean],ignore_index=True)\n",
        "\n",
        "    #p_value of 2 set of MSE created during 10 round of cross validation\n",
        "    p_value_mean=ttest_ind(err_userMean_list, err_itemMean_list).pvalue\n",
        "\n",
        "  print(\"error of random vote with cross validation:\",  mean(err_random_list))\n",
        "  print(\"error of total mean vote with cross validation:\",   mean(err_globalMean_list))\n",
        "  print(\"error of mean vote of user with cross validation:\",  mean(err_userMean_list))\n",
        "  print(\"error of mean vote of item with cross validation:\",  mean(err_itemMean_list))\n",
        "  print(\"error of expected vote with cross validation:\",  mean(err_expectMean_list))\n",
        "  print(\"p-value between MSE of user mean and MSE of item mean:\",p_value_mean)\n",
        "\n",
        "  return df_result,err_userMean_list,err_itemMean_list\n",
        "\n",
        "\n",
        "df_result,err_userMean_list,err_itemMean_list =mean_cross_validation(votes[[\"user.id\",\"item.id\",\"rating\"]])\n",
        "\n",
        "\n",
        "end_time = datetime.now()\n",
        "print(f'Duration of execution of code: {end_time - start_time}')"
      ]
    },
    {
      "cell_type": "code",
      "execution_count": null,
      "metadata": {
        "colab": {
          "base_uri": "https://localhost:8080/",
          "height": 513
        },
        "id": "gjHDGAP7hLo5",
        "outputId": "24ceb04f-5985-4f01-dc1d-fa5381c3a671"
      },
      "outputs": [
        {
          "output_type": "display_data",
          "data": {
            "text/plain": [
              "<Figure size 1080x576 with 1 Axes>"
            ],
            "image/png": "[encoded data removed]"
          },
          "metadata": {
            "needs_background": "light"
          }
        }
      ],
      "source": [
        "plt.figure(figsize=(15,8))\n",
        "\n",
        "plt.hist(err_itemMean_list, ec = 'black', alpha=0.5, label=\"item\",color= 'b')\n",
        "plt.hist(err_userMean_list, ec = 'black', alpha=0.5, label=\"user\",color= 'r')\n",
        "# labels\n",
        "plt.title('MSE distribution ')\n",
        "plt.xlabel('MSE')\n",
        "plt.ylabel('Number of values')\n",
        "plt.legend(loc='upper right')\n",
        "plt.show()"
      ]
    },
    {
      "cell_type": "markdown",
      "metadata": {
        "id": "t5hnSa2HkdWu"
      },
      "source": [
        "**Conclusion Question 1:**\n",
        "\n",
        "1.   The expected mean of user and item votes incorporate heterogenity of lines and columns therefore gives the lowes error comparing to other naive mean methods which can be considered as baseline for future methods.\n",
        "\n",
        "1.   p-value between MSE of item and user mean is less than 0.05, therefore the difference between these two errors is not random and we can say that item mean gives better result than user mean.\n",
        "2.   visualization of MSE of user and item mean from 10 round of cross validation clearly shows that these two sets are separated.\n",
        "\n",
        "1.   The comparison of error results from cross validation and the calculation without cross validation, shows that cross validation has not positive effect on the error. In fact since it reduces the training data, the error increases eventually. Cross validation is usually used to calculated and fix a hyperparameter (e.g. number of nearest neighbors) but in this question we do not have hyperparameter so it just eliminate part of data which causes the method loses its resolution.\n",
        "1.   a dataframe called \"df_result\" is created from the code which can be used to observe the result of all cross validation round together. \n",
        "\n",
        "1.   The execution time for 10 fold cross validation and calculating all means are less than 1 second.\n",
        "\n",
        "\n",
        "\n",
        "\n",
        "\n",
        "\n",
        " \n"
      ]
    },
    {
      "cell_type": "markdown",
      "metadata": {
        "id": "VM-CdtlK-Ar4"
      },
      "source": [
        "# Question 2"
      ]
    },
    {
      "cell_type": "code",
      "execution_count": null,
      "metadata": {
        "id": "05L8gfr-1ukD"
      },
      "outputs": [],
      "source": [
        "def cos_similarity(df) : \n",
        "\n",
        "    # return pd.DataFrame(cosine_similarity(df.fillna(0), df.fillna(0)))\n",
        "    return np.dot(df.fillna(0),df.fillna(0).T)/np.dot(np.reshape(np.linalg.norm(df.fillna(0), axis=1), (-1, 1)),np.reshape(np.linalg.norm(df.fillna(0), axis=1), (1, -1)))\n",
        "\n",
        "\n",
        "\n",
        "\n",
        "def correlation_similarity(df) : \n",
        "  # return np.array(df.T.corr(method=\"pearson\"))\n",
        "  return(np.array(df.T.cov())/np.matmul(np.reshape(np.array(df.T.std()), (-1, 1)),np.reshape(np.array(df.T.std()), (1, -1))))\n",
        "\n",
        "\n",
        "# print(cos_similarity(user_item))\n",
        "# print(correlation_similarity(train_matrix))"
      ]
    },
    {
      "cell_type": "markdown",
      "metadata": {
        "id": "S8CehY-3o9HD"
      },
      "source": [
        "**Note**\n",
        "\n",
        "*   Calculation of correlation matrix based on \"Pearson\" gives different result when using the internal module of Pandas which is because of difference in handling missing data. In Python method only common votes are considered to calculate correlation. But I considered whole data to calculate Covariance and variance.\n",
        "\n"
      ]
    },
    {
      "cell_type": "code",
      "execution_count": null,
      "metadata": {
        "colab": {
          "base_uri": "https://localhost:8080/"
        },
        "id": "zZB7G0uIC41U",
        "outputId": "a51d3fd2-e50a-4c7b-bae8-4661b30aba36"
      },
      "outputs": [
        {
          "name": "stdout",
          "output_type": "stream",
          "text": [
            "MSE with cosinus similarity and user-user approach: 0.9077898225250284\n",
            "MSE with correlation similarity and user-user approach: 0.9028781049587937\n",
            "MSE with cosinus similarity and item-item approach: 0.8707602430131489\n",
            "MSE with correlation similarity and item-item approach: 0.9088688064997178\n",
            "Duration of execution of code: 0:00:56.563307\n"
          ]
        }
      ],
      "source": [
        "start_time = datetime.now() #timing\n",
        "np.seterr(divide='ignore', invalid='ignore') #to avoid warning messages\n",
        "\n",
        "def filter_col_cross_validation(df, similarity,method,fold=5,):\n",
        "    \n",
        "    df_shuffle = df.sample(frac = 1,random_state=1) #shuffling the dataframe to make cross-validation randomize\n",
        "    error_list=[]\n",
        "\n",
        "    for i in range(fold):\n",
        "      #creating validation and training datasets\n",
        "      df_valid=df_shuffle.iloc[int(len(df.index)*i*1/fold):int(len(df.index)*(i+1)*1/fold)] #validation chunk\n",
        "      df_train=df_shuffle.copy() #creating training dataset\n",
        "      df_train.loc[df_valid.index, 'rating']=np.NaN #replacing the ratings that chosen for validation with NaN in the training dataset  \n",
        "      if method==\"item-item\":\n",
        "        train_matrix=df_train.pivot(index=\"item.id\", columns=\"user.id\", values=\"rating\") #creating user-item dataframe\n",
        "      elif method==\"user-user\":\n",
        "        train_matrix=df_train.pivot(index=\"user.id\", columns=\"item.id\", values=\"rating\") #creating item-user dataframe\n",
        "      train_matrix=train_matrix.replace(0,np.nan)\n",
        "      not_Non_matrice=train_matrix.notna() #creating bolean matrice for missing values\n",
        "      if similarity==\"correlation\":\n",
        "        W_matrix=correlation_similarity(train_matrix) #W matrix by correlation\n",
        "        W_matrix[np.isnan(W_matrix)] = 0 #replacing possible Nan values with 0\n",
        "        np.fill_diagonal(W_matrix, 0) # replacing diagonal of W matrix with 0\n",
        "        k=np.dot(abs(W_matrix),np.array(not_Non_matrice))+1e-7 #k matrix with smoothing possible 0 values\n",
        "      elif similarity==\"cosine\":\n",
        "        W_matrix=cos_similarity(train_matrix)  #W matrix by cosinus similarity\n",
        "        W_matrix[np.isnan(W_matrix)] = 0 #replacing possible Nan values with 0\n",
        "        np.fill_diagonal(W_matrix, 0) # replacing diagonal of W matrix with 0\n",
        "        k=np.dot(abs(W_matrix),np.array(not_Non_matrice)) # K matrix\n",
        "     \n",
        "      mean_vec=np.array(np.reshape(np.array(train_matrix.mean(axis=1)),(-1,1))) #calculating mean vector and reshaping it to be a column vector\n",
        "      mean_matrix=np.tile(mean_vec,(1,train_matrix.shape[1])) #creating mean matrix by repeating mean vector to the length of training matrix\n",
        "      cent_matrix_mean=(np.array(train_matrix)-mean_vec) #centered matrix\n",
        "      cent_matrix_mean[np.isnan(cent_matrix_mean)] = 0 #replacing Nan values with 0\n",
        "      #calculation ofprediction matrix and converting it to dataframe with proper names for column\n",
        "      if method==\"item-item\":\n",
        "        result_matrix_total= pd.DataFrame(mean_matrix+((np.dot(W_matrix,cent_matrix_mean))/k)).stack().reset_index().rename(columns={\"level_0\":\"item.id\",\"level_1\":\"user.id\" ,0: \"rating.predict\"})\n",
        "      if method==\"user-user\":\n",
        "        result_matrix_total= pd.DataFrame(mean_matrix+((np.dot(W_matrix,cent_matrix_mean))/k)).stack().reset_index().rename(columns={\"level_0\":\"user.id\",\"level_1\":\"item.id\" ,0: \"rating.predict\"})\n",
        "      #adjusting user.id and item.id after conversion from numpy to dataframe columns\n",
        "      result_matrix_total[\"user.id\"]+=1\n",
        "      result_matrix_total[\"item.id\"]+=1\n",
        "      #extracting the ratings that should be predicted and exists in the validation set\n",
        "      valid_prediction=result_matrix_total.merge(df_valid, how=\"right\", on=[\"user.id\",\"item.id\"])\n",
        "      #calculating error\n",
        "      error_list.append(MSE(valid_prediction[\"rating.predict\"],valid_prediction[\"rating\"]))\n",
        "    return error_list\n",
        "\n",
        "\n",
        "print(\"MSE with cosinus similarity and user-user approach:\",mean(filter_col_cross_validation(votes,\"cosine\", \"user-user\")))\n",
        "print(\"MSE with correlation similarity and user-user approach:\",mean(filter_col_cross_validation(votes,\"correlation\", \"user-user\")))\n",
        "print(\"MSE with cosinus similarity and item-item approach:\",mean(filter_col_cross_validation(votes,\"cosine\", \"item-item\")))\n",
        "print(\"MSE with correlation similarity and item-item approach:\",mean(filter_col_cross_validation(votes,\"correlation\", \"item-item\")))\n",
        "\n",
        "end_time = datetime.now()\n",
        "print(f'Duration of execution of code: {end_time - start_time}')            \n",
        "\n",
        "\n",
        "\n"
      ]
    },
    {
      "cell_type": "markdown",
      "metadata": {
        "id": "m-tIcYEeyGS4"
      },
      "source": [
        "**Conclusion Question 2**\n",
        "\n",
        "1.   Collaborative filtering reduces error comparing to naive averaging method\n",
        "2.   The best result obtained by item-item approach with cosine similarity\n",
        "\n",
        "1.   The execution time for the two approach of user-user and item-item with two similarity relation is about 42 sec. \n",
        "\n",
        "\n",
        "\n"
      ]
    },
    {
      "cell_type": "markdown",
      "metadata": {
        "id": "fKA9FREz8obB"
      },
      "source": [
        "# Bonus Question"
      ]
    },
    {
      "cell_type": "code",
      "execution_count": null,
      "metadata": {
        "id": "ZdVVyzXX-29U"
      },
      "outputs": [],
      "source": [
        "#function to calculate euclidian distance between rows of a matrix\n",
        "def create_dist_list(train_set, _norm=np.linalg.norm):\n",
        "  distance_lists=[]\n",
        "  for i in  tqdm.tqdm(range(len(train_set))):\n",
        "    dist_list=[]\n",
        "    for j in range(len(train_set)):\n",
        "      if i==j:\n",
        "        dist_list.append(0)\n",
        "      else:\n",
        "        dist=train_set[i:i+1,:][0]-train_set[j:j+1,:][0]\n",
        "        dist[np.isnan(dist)] = 0\n",
        "        dist_list.append(_norm(dist))\n",
        "    distance_lists.append(dist_list)\n",
        "  return pd.DataFrame(distance_lists)\n",
        "# dist_matrix=create_dist_list(np.array(train_matrix), _norm=np.linalg.norm)"
      ]
    },
    {
      "cell_type": "code",
      "execution_count": null,
      "metadata": {
        "id": "UzNY0Rqb8v77"
      },
      "outputs": [],
      "source": [
        "#calculate common vote matrix\n",
        "def common_votes(train_set):\n",
        "  train_set[np.isnan(train_set)] = 0\n",
        "  train_set_bool=np.array(train_set.astype(bool).astype(int))\n",
        "  nvc=np.dot(np.array(train_set_bool),np.array(train_set_bool.T))\n",
        "\n",
        "  return nvc\n",
        "# nvc=common_votes(train_matrix)"
      ]
    },
    {
      "cell_type": "code",
      "execution_count": null,
      "metadata": {
        "id": "4ylv5xmJCw5v"
      },
      "outputs": [],
      "source": [
        "np.seterr(divide='ignore', invalid='ignore')\n",
        "\n",
        "def find_k_near_neighbor(df,n,fold=5):\n",
        "  \n",
        "  df_shuffle = df.sample(frac = 1,random_state=1) #shuffling the dataframe to make cross-validation randomize\n",
        "  # error_dict={}\n",
        "  # for n in near_neighor_no:\n",
        "    # print(k)\n",
        "  error_list=[]\n",
        "  for i in range(fold):\n",
        "  #creting validation and training datasets\n",
        "    df_valid=df_shuffle.iloc[int(len(df_shuffle.index)*i*1/fold):int(len(df_shuffle.index)*(i+1)*1/fold)] #validation chunk\n",
        "    df_train=df_shuffle.copy()\n",
        "    df_train.loc[df_valid.index, 'rating']=np.NaN\n",
        "    train_matrix=df_train.pivot(index=\"item.id\", columns=\"user.id\", values=\"rating\")\n",
        "    votes_nvc=common_votes(train_matrix) #calculate common vote matrix\n",
        "    train_matrix=train_matrix.replace(0,np.nan) # changing 0 values to nan so that they don't be considered in the calculations\n",
        "    dist_matrix=create_dist_list(np.array(train_matrix), _norm=np.linalg.norm) #create disatnce matrix\n",
        "    normal_dist=dist_matrix/votes_nvc # creating normalized distance matrix to leverage the items with more common votes \n",
        "    normal_dist[np.isnan(normal_dist)] = 0 #change all missing values in the distance matrix to 0\n",
        "    normal_dist[normal_dist==0]=1000000 # converting 0 values to a large number so not to be considered as near neighbor\n",
        "      ##replacing 0 distances with a large number, the probability that two different rows with considerable number of common votes have 0 distance is very low,/\n",
        "    ###so when the distance is 0 it is the distance of the same row to itself or the rows that have no common votes\n",
        "    normal_dist=np.array(normal_dist)\n",
        "    df_result=pd.DataFrame()\n",
        "    for j in range(len(normal_dist)):\n",
        "      k_neighbors_index=np.argsort(normal_dist[j:j+1], axis=1)[0][:n] #find k nearest neighbor\n",
        "      neighbor_data=pd.concat([train_matrix.iloc[j:j+1,:],train_matrix.iloc[list(k_neighbors_index),:]],ignore_index=True) #concatenate the target line with n nearest neighbor to build train matrix\n",
        "      neighbor_data=neighbor_data.replace(0,np.nan) #replace 0 values to nan to avoid their participation in the calculation\n",
        "      not_Non_matrice=neighbor_data.notna() #nan matrix\n",
        "      W_matrix=cos_similarity(neighbor_data) #cosine similarity matrix\n",
        "      W_matrix[np.isnan(W_matrix)] = 0 #setting possible nan values to 0\n",
        "      np.fill_diagonal(W_matrix, 0)  # changing diagonal values to 0\n",
        "      k=np.dot(abs(W_matrix),np.array(not_Non_matrice)) # k matrix\n",
        "      mean_vec=np.array(np.reshape(np.array(neighbor_data[neighbor_data!=0].mean(axis=1)),(-1,1))) #mean vector \n",
        "      mean_matrix=np.tile(mean_vec,(1,neighbor_data.shape[1])) #creating mean matrix by repeating mean vector to the length of training matrix\n",
        "      cent_matrix_mean=(np.array(neighbor_data)-mean_vec) #centered matrix\n",
        "      cent_matrix_mean[np.isnan(cent_matrix_mean)] = 0\n",
        "      result_matrix_total= pd.DataFrame(mean_matrix+((np.dot(W_matrix,cent_matrix_mean))/k))  #the prediction matrix\n",
        "      df_result=pd.concat([df_result,result_matrix_total.iloc[0:1,]],ignore_index=True) # extracting first row of prediction matrix and concatinating to the target matrix and repeating the loop\n",
        "      # print(df_result)\n",
        "    df_result=df_result.stack().reset_index().rename(columns={\"level_0\":\"item.id\",\"level_1\":\"user.id\" ,0: \"rating.predict\"}) #converting to dataframe with proper naming\n",
        "    df_result[\"user.id\"]+=1 #compensating user.id and item.id columns after conversion\n",
        "    df_result[\"item.id\"]+=1\n",
        "    valid_prediction=df_result.merge(df_valid, how=\"right\", on=[\"user.id\",\"item.id\"]) # extracting validation data to compare with original data\n",
        "    fold_error=MSE(valid_prediction[\"rating.predict\"],valid_prediction[\"rating\"]) # error of the fold\n",
        "    error_list.append(fold_error)\n",
        "  print(error_list) #print error at each fold \n",
        "  error_mean=mean(error_list)\n",
        "  \n",
        "  return error_mean\n",
        "\n",
        "         \n",
        "# find_k_near_neighbor(votes,near_neighbor_no)\n",
        "\n",
        "\n",
        "      \n",
        "\n",
        "\n",
        "\n"
      ]
    },
    {
      "cell_type": "code",
      "execution_count": null,
      "metadata": {
        "colab": {
          "base_uri": "https://localhost:8080/"
        },
        "id": "Te5TcIOmt-JK",
        "outputId": "26e64942-baf2-49a0-83dc-97c097004d1b"
      },
      "outputs": [
        {
          "name": "stderr",
          "output_type": "stream",
          "text": [
            "100%|██████████| 1682/1682 [01:40<00:00, 16.77it/s]\n",
            "100%|██████████| 1682/1682 [01:04<00:00, 25.96it/s]\n",
            "100%|██████████| 1682/1682 [01:50<00:00, 15.21it/s]\n",
            "100%|██████████| 1682/1682 [00:59<00:00, 28.11it/s]\n",
            "100%|██████████| 1682/1682 [01:09<00:00, 24.11it/s]\n"
          ]
        },
        {
          "name": "stdout",
          "output_type": "stream",
          "text": [
            "[0.9993628087248181, 0.9947144013009361, 1.00634396912522, 0.9994089279432656, 1.0184103868526007]\n",
            "The mean error for 10 neighbor is: 1.0036480987893681\n",
            "Duration of execution of code: 0:11:29.903931\n"
          ]
        }
      ],
      "source": [
        "start_time = datetime.now()\n",
        "n=10\n",
        "print(f\"The mean error for {n} neighbor is:\" ,find_k_near_neighbor(votes,n))\n",
        "end_time = datetime.now()\n",
        "print(f'Duration of execution of code: {end_time - start_time}')"
      ]
    },
    {
      "cell_type": "code",
      "execution_count": null,
      "metadata": {
        "colab": {
          "base_uri": "https://localhost:8080/"
        },
        "id": "vGofy3-GuUHT",
        "outputId": "0791b1c9-7da5-4b7c-f156-f5a3e17b5a26"
      },
      "outputs": [
        {
          "name": "stderr",
          "output_type": "stream",
          "text": [
            "100%|██████████| 1682/1682 [01:02<00:00, 26.86it/s]\n",
            "100%|██████████| 1682/1682 [01:00<00:00, 27.88it/s]\n",
            "100%|██████████| 1682/1682 [00:59<00:00, 28.04it/s]\n",
            "100%|██████████| 1682/1682 [01:00<00:00, 27.59it/s]\n",
            "100%|██████████| 1682/1682 [01:00<00:00, 27.71it/s]\n"
          ]
        },
        {
          "name": "stdout",
          "output_type": "stream",
          "text": [
            "[0.905028044721427, 0.9061301362506252, 0.9226021577671806, 0.8986680111062914, 0.9090468834195747]\n",
            "The mean error for 25 neighbors is: 0.9082950466530197\n",
            "Duration of execution of code: 0:09:03.517276\n"
          ]
        }
      ],
      "source": [
        "start_time = datetime.now()\n",
        "n=25\n",
        "print(f\"The mean error for {n} neighbors is:\" ,find_k_near_neighbor(votes,n))\n",
        "end_time = datetime.now()\n",
        "print(f'Duration of execution of code: {end_time - start_time}')"
      ]
    },
    {
      "cell_type": "code",
      "execution_count": null,
      "metadata": {
        "colab": {
          "base_uri": "https://localhost:8080/"
        },
        "id": "FeEX4HWXuUmt",
        "outputId": "8701074f-091d-4553-de33-27037aa1671f"
      },
      "outputs": [
        {
          "name": "stderr",
          "output_type": "stream",
          "text": [
            "100%|██████████| 1682/1682 [00:59<00:00, 28.10it/s]\n",
            "100%|██████████| 1682/1682 [00:59<00:00, 28.14it/s]\n",
            "100%|██████████| 1682/1682 [00:59<00:00, 28.09it/s]\n",
            "100%|██████████| 1682/1682 [00:59<00:00, 28.25it/s]\n",
            "100%|██████████| 1682/1682 [00:59<00:00, 28.15it/s]\n"
          ]
        },
        {
          "name": "stdout",
          "output_type": "stream",
          "text": [
            "[0.8669206391498069, 0.8685625343369231, 0.8829174529904247, 0.8647973371087556, 0.870829873537063]\n",
            "The mean error for 50 neighbors is: 0.8708055674245947\n",
            "Duration of execution of code: 0:09:27.373224\n"
          ]
        }
      ],
      "source": [
        "start_time = datetime.now()\n",
        "n=50\n",
        "print(f\"The mean error for {n} neighbors is:\" ,find_k_near_neighbor(votes,n))\n",
        "end_time = datetime.now()\n",
        "print(f'Duration of execution of code: {end_time - start_time}')"
      ]
    },
    {
      "cell_type": "code",
      "execution_count": null,
      "metadata": {
        "colab": {
          "base_uri": "https://localhost:8080/"
        },
        "id": "nKgYP-dfuVLI",
        "outputId": "cdd06327-90d0-44f9-8e6b-a138794feb3e"
      },
      "outputs": [
        {
          "name": "stderr",
          "output_type": "stream",
          "text": [
            "100%|██████████| 1682/1682 [00:59<00:00, 28.37it/s]\n",
            "100%|██████████| 1682/1682 [01:00<00:00, 27.92it/s]\n",
            "100%|██████████| 1682/1682 [01:00<00:00, 27.90it/s]\n",
            "100%|██████████| 1682/1682 [01:01<00:00, 27.16it/s]\n",
            "100%|██████████| 1682/1682 [01:01<00:00, 27.43it/s]\n"
          ]
        },
        {
          "name": "stdout",
          "output_type": "stream",
          "text": [
            "[0.8548622091387328, 0.8546807307187824, 0.8698488077012562, 0.8515614350602575, 0.8584989267965262]\n",
            "The mean error for 100 neighbors is: 0.857890421883111\n",
            "Duration of execution of code: 0:10:26.612225\n"
          ]
        }
      ],
      "source": [
        "start_time = datetime.now()\n",
        "n=100\n",
        "print(f\"The mean error for {n} neighbors is:\" ,find_k_near_neighbor(votes,n))\n",
        "end_time = datetime.now()\n",
        "print(f'Duration of execution of code: {end_time - start_time}')"
      ]
    },
    {
      "cell_type": "markdown",
      "metadata": {
        "id": "tJO1Yv28s7J6"
      },
      "source": [
        "**Conclusion for K-NN**\n",
        "\n",
        "1.   As the number of neighbors increases from 10 to 100 the MSE decreases\n",
        "2.   MSE for 100 neighbors is better than the case of whole dataset\n",
        "\n"
      ]
    },
    {
      "cell_type": "markdown",
      "metadata": {
        "id": "qySesH_3Z2eT"
      },
      "source": [
        "# Question 3\n",
        "\n",
        "---\n",
        "\n"
      ]
    },
    {
      "cell_type": "code",
      "source": [
        "#function that centers df values by its mean of row or coluumn or combinatination of both\n",
        "def df_centering(df,mean_type):\n",
        "\n",
        "  #find columns mean\n",
        "  column_mean=df.mean(axis=0)\n",
        "  #finding rows mean\n",
        "  row_mean=df.mean(axis=1)\n",
        "\n",
        "  if mean_type==\"combinedMean\":\n",
        "    #finding outer mean of row and column mean\n",
        "    mean_df=pd.DataFrame((np.add.outer(np.array(row_mean),np.array(column_mean)))/2)\n",
        "    #adjusting index\n",
        "    mean_df.set_index(mean_df.index+1, inplace=True)\n",
        "    #adjusting columns\n",
        "    mean_df.rename(columns=lambda x: x+1,inplace=True)\n",
        "    #fill remaining NaN values in combined mean by row mean\n",
        "    mean_df.T.fillna(df.mean(axis=1), inplace=True)\n",
        "\n",
        "  if mean_type==\"rowMean\":\n",
        "    #reshaping mean vector to be a column vector\n",
        "    row_mean=np.array(np.reshape(np.array(row_mean),(-1,1)))\n",
        "    #creating mean matrix by repeating mean vector to the length of training matrix\n",
        "    mean_df=pd.DataFrame(np.tile(row_mean,(1,df.shape[1])))\n",
        "    #adjusting index\n",
        "    mean_df.set_index(mean_df.index+1, inplace=True)\n",
        "    #adjusting columns\n",
        "    mean_df.rename(columns=lambda x: x+1,inplace=True)\n",
        "\n",
        "  if mean_type==\"columnMean\":\n",
        "    #reshaping mean vector to be a row vector\n",
        "    column_mean=np.array(np.reshape(np.array(column_mean),(1,-1)))\n",
        "    #creating mean matrix by repeating mean vector to the length of training matrix\n",
        "    mean_df=pd.DataFrame(np.tile(column_mean,(df.shape[0],1)))\n",
        "    #adjusting index\n",
        "    mean_df.set_index(mean_df.index+1, inplace=True)\n",
        "    #adjusting columns\n",
        "    mean_df.rename(columns=lambda x: x+1,inplace=True)\n",
        "    #fill remaining NaN values in column mean by row mean\n",
        "    mean_df.T.fillna(df.mean(axis=1), inplace=True)\n",
        "\n",
        "  #centering df by its mean\n",
        "  df_center=df-mean_df\n",
        "  return df_center, mean_df\n"
      ],
      "metadata": {
        "id": "k6daGS_UNTIQ"
      },
      "execution_count": null,
      "outputs": []
    },
    {
      "cell_type": "code",
      "execution_count": null,
      "metadata": {
        "id": "YKuYFMsOaHym"
      },
      "outputs": [],
      "source": [
        "def svd(R,i):\n",
        "    #sortie u,sifma et v_trans par svd comme vu dans la video:\n",
        "    u,sigma, v_trans=np.linalg.svd(R,full_matrices=False)\n",
        "    #transform our 1-dimensional matrix into a diagonal matrix with nrow*nrow format:\n",
        "    sigma=np.diag(sigma) \n",
        "    #make a prediction matrix by redoing the matrix multiplication of u,\n",
        "    #sigma and v_trans but using only the latent dimensions given by i:\n",
        "    prediction=np.linalg.multi_dot([u[:,:i],sigma[:i,:i],v_trans[:i,:]])\n",
        "    #source:\n",
        "    #https://numpy.org/doc/stable/reference/generated/numpy.tile.html\n",
        "    #https://stackoverflow.com/questions/45264141/convert-array-into-dataframe-in-python\n",
        "    return prediction"
      ]
    },
    {
      "cell_type": "code",
      "source": [
        "def svd_cv_updated(df,fold,dimension):\n",
        "  #shuffling dataset\n",
        "    df_shuffle = df.sample(frac = 1,random_state=1)\n",
        "    error_list=[] #liste of MSE that is going to be empty to begin with\n",
        "    for i in range(fold):\n",
        "        \n",
        "        #validation chunk\n",
        "        df_valid=df_shuffle.iloc[int(len(df.index)*i*1/fold):int(len(df.index)*(i+1)*1/fold)] \n",
        "        #creating training dataset\n",
        "        df_train=df_shuffle.copy() \n",
        "        #replacing the ratings that chosen for validation with NaN in the training dataset \n",
        "        df_train.loc[df_valid.index, 'rating']=np.NaN  \n",
        "        #creating user-item dataframe\n",
        "        train_matrix=df_train.pivot(index=\"user.id\", columns=\"item.id\", values=\"rating\") \n",
        "        \n",
        "        #we are going to center the values of train_matrix using its means  matrix and\n",
        "        #we are going to have the values of all the means in R_mean_fill:\n",
        "        R_norm, R_mean_fill = df_centering(train_matrix, \"combinedMean\")\n",
        "        R_norm.fillna(0, inplace=True)\n",
        "\n",
        "        #here dimension represents the number of latent dimensions that are going to be used in the svd function\n",
        "        pred=svd(R_norm,dimension)+R_mean_fill\n",
        "        \n",
        "        #turn the resulting 2d-DataFrame into multiple component DataFrame just like the original votes DataFrame:\n",
        "        pred=pred.stack().reset_index().rename(columns={\"level_0\":\"user.id\",\"level_1\":\"item.id\" ,0: \"rating.predict\"})\n",
        "\n",
        "        #extracting the ratings that should be predicted and exists in the validation set:\n",
        "        valid_prediction=pred.merge(df_valid, how=\"right\", on=[\"user.id\",\"item.id\"])\n",
        "        #calculating error\n",
        "        error_list.append(MSE(valid_prediction[\"rating.predict\"],valid_prediction[\"rating\"]))\n",
        "    return error_list "
      ],
      "metadata": {
        "id": "hIA9eur4Y5YH"
      },
      "execution_count": null,
      "outputs": []
    },
    {
      "cell_type": "code",
      "source": [
        "%%time\n",
        "fold=5\n",
        "#results for different k list:\n",
        "k_dict={}\n",
        "for k in range (5,21,3):\n",
        "    k_dict[k]=mean(svd_cv_updated(votes,fold,k))\n",
        "print(\"error for different dimension reduction is:\\n\",k_dict)\n",
        "#les valeurs ici sont pour k=5,8,11,14,17,20\n",
        "#on obtiens donc que la meilleur methode est quand k=14"
      ],
      "metadata": {
        "colab": {
          "base_uri": "https://localhost:8080/"
        },
        "id": "sHsr89A6cd6e",
        "outputId": "3d57370d-beb6-404b-f64b-cd29ca97c6a8"
      },
      "execution_count": null,
      "outputs": [
        {
          "output_type": "stream",
          "name": "stdout",
          "text": [
            "error for different dimension reduction is:\n",
            " {5: 0.9083008468056367, 8: 0.9005089377255642, 11: 0.8977143140159575, 14: 0.8982256486007765, 17: 0.8987304826965038, 20: 0.9003223783227158}\n",
            "CPU times: user 1min 31s, sys: 13.5 s, total: 1min 44s\n",
            "Wall time: 1min 1s\n"
          ]
        }
      ]
    },
    {
      "cell_type": "code",
      "source": [
        "plt.figure(figsize=(15,6))\n",
        "plt.title('MSE of SVD ')\n",
        "plt.xlabel('Number of Dimensions',fontsize=15)\n",
        "plt.ylabel('mean of MSE',fontsize=15)\n",
        "plt.grid(True)\n",
        "plt.plot(list(k_dict.keys()),list(k_dict.values()))"
      ],
      "metadata": {
        "colab": {
          "base_uri": "https://localhost:8080/",
          "height": 426
        },
        "id": "tzt19aNNf9af",
        "outputId": "dc955e9a-7ab8-41b5-b80d-4476e69114db"
      },
      "execution_count": null,
      "outputs": [
        {
          "output_type": "execute_result",
          "data": {
            "text/plain": [
              "[<matplotlib.lines.Line2D at 0x7f1c071ad4d0>]"
            ]
          },
          "metadata": {},
          "execution_count": 18
        },
        {
          "output_type": "display_data",
          "data": {
            "image/png": "[encoded data removed]",
            "text/plain": [
              "<Figure size 1080x432 with 1 Axes>"
            ]
          },
          "metadata": {
            "needs_background": "light"
          }
        }
      ]
    },
    {
      "cell_type": "markdown",
      "source": [
        "###Conclusion Q3\n",
        "\n",
        "\n",
        "*   the running time for 6 different dimension is 61s which is about 10s for each dimension.\n",
        "*   The best results obtained by using 11 to 14 dimensions (MSE=0.89) which is better than baseline expected mean in Q1, but item-item method with cosine similarity gave better result (MSE=0.87) with quite the same running time.\n",
        "\n",
        "\n"
      ],
      "metadata": {
        "id": "uG_0DRmRNvIb"
      }
    },
    {
      "cell_type": "markdown",
      "metadata": {
        "id": "2EYHl4no9gkI"
      },
      "source": [
        "# Question 4"
      ]
    },
    {
      "cell_type": "markdown",
      "source": [
        "to implement K-means we have used two methods:\n",
        "\n",
        "\n",
        "1.   In the first method training and validation set are centered using combined mean of train matrix and then missing values were replaced by a small number (1e-7). After that, K_means are estimated using centered training matrix. Then based on the correlation of each line of validation matrix and K-centroid matrix the best centered was chosen to replace the chosen line of validation set. Then the mean matrix was added to the matrix and we have the prediction matrix.\n",
        "2.   In the second method mean matrix of training set was used to calculate K-means and the training and validation set were NOT centered. Based on the correlation of each line validation set and K-means matrix the best centroid was chosen to be used as prediction.\n",
        "\n"
      ],
      "metadata": {
        "id": "__xg_4TAjLjp"
      }
    },
    {
      "cell_type": "code",
      "execution_count": null,
      "metadata": {
        "id": "iW7L32O2VzZb"
      },
      "outputs": [],
      "source": [
        "#function that centers df values by its mean of row or coluumn or combinatination of both\n",
        "def df_centering(df,mean_type):\n",
        "\n",
        "  #find columns mean\n",
        "  column_mean=df.mean(axis=0)\n",
        "  #finding rows mean\n",
        "  row_mean=df.mean(axis=1)\n",
        "\n",
        "  if mean_type==\"combinedMean\":\n",
        "    #finding outer mean of row and column mean\n",
        "    mean_df=pd.DataFrame((np.add.outer(np.array(row_mean),np.array(column_mean)))/2)\n",
        "    #adjusting index\n",
        "    mean_df.set_index(mean_df.index+1, inplace=True)\n",
        "    #adjusting columns\n",
        "    mean_df.rename(columns=lambda x: x+1,inplace=True)\n",
        "    #fill remaining NaN values in combined mean by row mean\n",
        "    mean_df.T.fillna(df.mean(axis=1), inplace=True)\n",
        "\n",
        "  if mean_type==\"rowMean\":\n",
        "    #reshaping mean vector to be a column vector\n",
        "    row_mean=np.array(np.reshape(np.array(row_mean),(-1,1)))\n",
        "    #creating mean matrix by repeating mean vector to the length of training matrix\n",
        "    mean_df=pd.DataFrame(np.tile(row_mean,(1,df.shape[1])))\n",
        "    #adjusting index\n",
        "    mean_df.set_index(mean_df.index+1, inplace=True)\n",
        "    #adjusting columns\n",
        "    mean_df.rename(columns=lambda x: x+1,inplace=True)\n",
        "\n",
        "  if mean_type==\"columnMean\":\n",
        "    #reshaping mean vector to be a row vector\n",
        "    column_mean=np.array(np.reshape(np.array(column_mean),(1,-1)))\n",
        "    #creating mean matrix by repeating mean vector to the length of training matrix\n",
        "    mean_df=pd.DataFrame(np.tile(column_mean,(df.shape[0],1)))\n",
        "    #adjusting index\n",
        "    mean_df.set_index(mean_df.index+1, inplace=True)\n",
        "    #adjusting columns\n",
        "    mean_df.rename(columns=lambda x: x+1,inplace=True)\n",
        "    #fill remaining NaN values in column mean by row mean\n",
        "    mean_df.T.fillna(df.mean(axis=1), inplace=True)\n",
        "\n",
        "  #centering df by its mean\n",
        "  df_center=df-mean_df\n",
        "  return df_center, mean_df\n"
      ]
    },
    {
      "cell_type": "code",
      "source": [
        "def compute_correlation_cluster(clusters,valid_matrix):\n",
        "  \n",
        "  #prediction df\n",
        "  result_df=pd.DataFrame()\n",
        "  centroid=pd.DataFrame(clusters)\n",
        "  centroid.rename(columns=lambda x: x+1,inplace=True)\n",
        "  for i in list(valid_matrix.index):\n",
        "\n",
        "    #creating a matrix with o row from validation matrix and K row of cluster centers\n",
        "    valid_correlation=valid_matrix[valid_matrix.index==i].append(centroid,ignore_index=True)\n",
        "    #calculating correlation matrix between on row of validation and cluster centers\n",
        "\n",
        "    W=np.array(valid_correlation.T.corr(method=\"pearson\"))\n",
        "    #replacing 1 in the diagonal with 0 to eliminate correlation of rows with themselves\n",
        "    np.fill_diagonal(W, 0)\n",
        "    #finding the index of highest correlation of validation row with cluster centers\n",
        "    best_k=np.argsort(abs(W[0]))[-1:]-1\n",
        "    #adding the chosen cluster center to to the prediction df\n",
        "    result_df=pd.concat([result_df,centroid.iloc[best_k]],ignore_index=True)\n",
        "\n",
        "  #adjusting index of prediction df with validation df\n",
        "  result_df.index=valid_matrix.index\n",
        "  #adjusting columns of prediction df to start from 1 and be the same as validation df\n",
        "  # result_df.rename(columns=lambda x: x+1,inplace=True)\n",
        "  #adding mean of training to the values in prediction df\n",
        "  # print(result_df)\n",
        "  return result_df"
      ],
      "metadata": {
        "id": "aCR20A6iu5CN"
      },
      "execution_count": null,
      "outputs": []
    },
    {
      "cell_type": "code",
      "execution_count": null,
      "metadata": {
        "colab": {
          "base_uri": "https://localhost:8080/"
        },
        "id": "ZOcLD5l59fzw",
        "outputId": "20836027-65c2-48ab-af65-3d0d2d592054"
      },
      "outputs": [
        {
          "output_type": "stream",
          "name": "stdout",
          "text": [
            "{5: 0.9906506733919332, 10: 1.031103936919407, 20: 1.0389537517062526, 40: 1.1055812323109333, 80: 1.192056900854733}\n",
            "CPU times: user 8min 3s, sys: 49.1 s, total: 8min 52s\n",
            "Wall time: 7min 57s\n"
          ]
        }
      ],
      "source": [
        "%%time\n",
        "\n",
        "np.seterr(divide='ignore', invalid='ignore') #to avoid warning messages\n",
        "\n",
        "def k_mean(df, classes, fold=5):\n",
        "    \n",
        "    df_shuffle = df.sample(frac = 1,random_state=1) #shuffling the dataframe to make cross-validation randomize\n",
        "    error_dict={}\n",
        "    for k in classes:\n",
        "      error_list=[]\n",
        "      for i in range(fold):\n",
        "        #creating validation and training datasets\n",
        "        df_valid=df_shuffle.iloc[int(len(df_shuffle.index)*i*1/fold):int(len(df_shuffle.index)*(i+1)*1/fold)] #validation chunk\n",
        "        #creating training dataset\n",
        "        df_train=df_shuffle.copy()\n",
        "        #replacing the ratings that chosen for validation with NaN in the training dataset\n",
        "        df_train.loc[df_valid.index, 'rating']=np.NaN\n",
        "        #converting dataframe to matrix with users as line\n",
        "        train_matrix=df_train.pivot(index=\"user.id\", columns=\"item.id\", values=\"rating\") \n",
        "        valid_matrix=df_valid.pivot(index=\"user.id\", columns=\"item.id\", values=\"rating\")\n",
        "\n",
        "\n",
        "        #centering training matrix, filling NaN with 1e-7 and calculating mean of matrix based on the desired method\n",
        "        train_matrix_centered, trainMean_matrix=df_centering(train_matrix, \"combinedMean\")\n",
        "        train_matrix_centered.fillna(1e-7, inplace=True)\n",
        "\n",
        "        valid_matrix.fillna(1e-7, inplace=True)\n",
        "        valid_matrix_centered=valid_matrix-trainMean_matrix\n",
        "        \n",
        "\n",
        "\n",
        "        #fitting Kmeans to the centered train matrix\n",
        "        kmeans = KMeans(n_clusters=k,random_state=10).fit(train_matrix_centered)\n",
        "\n",
        "        #calculating prediction based on kmeans centers\n",
        "        prediction_matrix=compute_correlation_cluster(kmeans.cluster_centers_,valid_matrix_centered)+trainMean_matrix\n",
        "\n",
        "        #converting prediction matrix to df and renaming columns\n",
        "        prediction_df=prediction_matrix.stack().reset_index().rename(columns={\"level_0\":\"user.id\",\"level_1\":\"item.id\" ,0: \"rating.predict\"})\n",
        "\n",
        "        #extracting the validation rows from prediction df\n",
        "        valid_prediction=prediction_df.merge(df_valid, how=\"right\", on=[\"user.id\",\"item.id\"])\n",
        "\n",
        "\n",
        "        #calculating error of each fold and adding it to the list\n",
        "        error_list.append(MSE(valid_prediction[\"rating.predict\"],valid_prediction[\"rating\"]))\n",
        "      # adding the list of errors for different fold of a kmeans\n",
        "      error_dict[k]=mean(error_list)\n",
        "    print(error_dict)\n",
        "    return error_dict\n",
        "\n",
        "classes=[5, 10, 20,40,80]\n",
        "\n",
        "k_mean_errors=k_mean(votes, classes)       \n",
        "        \n",
        "\n"
      ]
    },
    {
      "cell_type": "code",
      "source": [
        "plt.figure(figsize=(15,6))\n",
        "plt.title('MSE of K-means with centered matrix method ')\n",
        "plt.xlabel('Number of K',fontsize=15)\n",
        "plt.xticks(np.arange(0, 100, step=5))\n",
        "plt.ylabel('mean of MSE',fontsize=15)\n",
        "plt.grid(True)\n",
        "plt.plot(list(k_mean_errors.keys()),list(k_mean_errors.values()))"
      ],
      "metadata": {
        "colab": {
          "base_uri": "https://localhost:8080/",
          "height": 426
        },
        "id": "HsW3J0yIiQiE",
        "outputId": "2faeb0c7-fe1e-497f-f51e-5760a3ee0a01"
      },
      "execution_count": null,
      "outputs": [
        {
          "output_type": "execute_result",
          "data": {
            "text/plain": [
              "[<matplotlib.lines.Line2D at 0x7f9f049f4710>]"
            ]
          },
          "metadata": {},
          "execution_count": 23
        },
        {
          "output_type": "display_data",
          "data": {
            "image/png": "[encoded data removed]",
            "text/plain": [
              "<Figure size 1080x432 with 1 Axes>"
            ]
          },
          "metadata": {
            "needs_background": "light"
          }
        }
      ]
    },
    {
      "cell_type": "markdown",
      "source": [
        "###Conclusion\n",
        "In this method of K-means K=5 gives the lowes MSE, Its running time is 7 min. "
      ],
      "metadata": {
        "id": "ZcDthZYPq2RH"
      }
    },
    {
      "cell_type": "code",
      "source": [
        "%%time\n",
        "start_time = datetime.now() #timing\n",
        "np.seterr(divide='ignore', invalid='ignore') #to avoid warning messages\n",
        "\n",
        "def k_mean_mean_matrix(df, classes, fold=5):\n",
        "    \n",
        "    df_shuffle = df.sample(frac = 1,random_state=1) #shuffling the dataframe to make cross-validation randomize\n",
        "    error_dict={}\n",
        "    for k in classes:\n",
        "      error_list=[]\n",
        "      for i in range(fold):\n",
        "        #creating validation and training datasets\n",
        "        df_valid=df_shuffle.iloc[int(len(df_shuffle.index)*i*1/fold):int(len(df_shuffle.index)*(i+1)*1/fold)] #validation chunk\n",
        "        #creating training dataset\n",
        "        df_train=df_shuffle.copy()\n",
        "        #replacing the ratings that chosen for validation with NaN in the training dataset\n",
        "        df_train.loc[df_valid.index, 'rating']=np.NaN\n",
        "        #converting dataframe to matrix with users as line\n",
        "        train_matrix=df_train.pivot(index=\"user.id\", columns=\"item.id\", values=\"rating\") \n",
        "        valid_matrix=df_valid.pivot(index=\"user.id\", columns=\"item.id\", values=\"rating\")\n",
        "        vote_matrix=df_shuffle.pivot(index=\"user.id\", columns=\"item.id\", values=\"rating\")\n",
        "\n",
        "\n",
        "        #centering training matrix, filling NaN with 1e-7 and calculating mean of matrix based on the desired method\n",
        "        train_matrix_centered, trainMean_matrix=df_centering(train_matrix, \"combinedMean\")\n",
        "\n",
        "\n",
        "        #filling NaN in both validation and training matrix with mean values of training matrix\n",
        "        valid_matrix_filled=valid_matrix.fillna(trainMean_matrix)\n",
        "        train_matrix_filled=train_matrix.fillna(trainMean_matrix)\n",
        "\n",
        "        #fitting Kmeans to the mean matrix\n",
        "        kmeans = KMeans(n_clusters=k, random_state=10).fit(trainMean_matrix)\n",
        "\n",
        "        #calculating prediction based on kmeans centers\n",
        "        prediction_matrix=compute_correlation_cluster(kmeans.cluster_centers_,valid_matrix_filled)\n",
        "\n",
        "        #converting prediction matrix to df and renaming columns\n",
        "        prediction_df=prediction_matrix.stack().reset_index().rename(columns={\"level_0\":\"user.id\",\"level_1\":\"item.id\" ,0: \"rating.predict\"})\n",
        "\n",
        "        #extracting the validation rows from prediction df\n",
        "        valid_prediction=prediction_df.merge(df_valid, how=\"right\", on=[\"user.id\",\"item.id\"])\n",
        "\n",
        "        #calculating error of each fold and adding it to the list\n",
        "        error_list.append(MSE(valid_prediction[\"rating.predict\"],valid_prediction[\"rating\"]))\n",
        "      #adding the list of errors for different fold of a kmeans\n",
        "      error_dict[k]=mean(error_list)\n",
        "    print(error_dict)\n",
        "    return error_dict\n",
        "\n",
        "classes=[5, 10, 20,40,80]\n",
        "\n",
        "k_mean_error_mean=k_mean_mean_matrix(votes, classes)       \n",
        "        "
      ],
      "metadata": {
        "colab": {
          "base_uri": "https://localhost:8080/"
        },
        "id": "HKoll5igoJbB",
        "outputId": "11281f84-1f81-4362-f260-2d3d1dd14b26"
      },
      "execution_count": null,
      "outputs": [
        {
          "output_type": "stream",
          "name": "stdout",
          "text": [
            "{5: 0.9836664720939328, 10: 0.9725469435440968, 20: 0.9679083989378249, 40: 0.9675693710406836, 80: 0.9678202365636049}\n",
            "CPU times: user 22min 58s, sys: 42.6 s, total: 23min 41s\n",
            "Wall time: 22min 34s\n"
          ]
        }
      ]
    },
    {
      "cell_type": "code",
      "source": [
        "plt.figure(figsize=(15,6))\n",
        "plt.title('MSE of K-means using K-means of train mean matrix')\n",
        "plt.xlabel('Number of K',fontsize=15)\n",
        "plt.xticks(np.arange(0, 100, step=5))\n",
        "plt.ylabel('mean of MSE',fontsize=15)\n",
        "plt.grid(True)\n",
        "plt.plot(list(k_mean_error_mean.keys()),list(k_mean_error_mean.values()))"
      ],
      "metadata": {
        "colab": {
          "base_uri": "https://localhost:8080/",
          "height": 426
        },
        "id": "IG5svsCLiL-A",
        "outputId": "4a138379-c7aa-463d-99f1-75d46ed20afb"
      },
      "execution_count": null,
      "outputs": [
        {
          "output_type": "execute_result",
          "data": {
            "text/plain": [
              "[<matplotlib.lines.Line2D at 0x7f9f04ad2b50>]"
            ]
          },
          "metadata": {},
          "execution_count": 22
        },
        {
          "output_type": "display_data",
          "data": {
            "image/png": "[encoded data removed]",
            "text/plain": [
              "<Figure size 1080x432 with 1 Axes>"
            ]
          },
          "metadata": {
            "needs_background": "light"
          }
        }
      ]
    },
    {
      "cell_type": "markdown",
      "source": [
        "##Conclusion\n",
        "by using training meant to calculate K-means we arrive at better MSE, one reason for better results can be because of having a full matrix to calculate K-means rather than a sparse matrix in the first method. This causes to have better resolution when chosing the closest centroid to the validation matrix and gives better result. The running time is a bit slower to the first method (20 min) but the running time is better than KNN method. The best K achived at 40."
      ],
      "metadata": {
        "id": "2Fkv7DGnpu2B"
      }
    },
    {
      "cell_type": "markdown",
      "source": [
        "# Question 5"
      ],
      "metadata": {
        "id": "GTqjFwUML4AW"
      }
    },
    {
      "cell_type": "markdown",
      "source": [
        "## CROSS-VALIDATION ERROR ESTIMATES"
      ],
      "metadata": {
        "id": "2lImPanOSJP-"
      }
    },
    {
      "cell_type": "code",
      "source": [
        "%%time\n",
        "######### COMMANDS FOR CROSS-VALIDATION MSE WITH BAYESIAN PROBABILITY ESTIMATES############\n",
        "def bayesian(df,fold,user):\n",
        "  #shuffling dataset\n",
        "    df_shuffle = df.sample(frac = 1,random_state=1)\n",
        "    error_list=[] #liste of MSE that is going to be empty to begin with\n",
        "    for i in range(fold):\n",
        "        #validation chunk\n",
        "        df_valid=df_shuffle.iloc[int(len(df.index)*i*1/fold):int(len(df.index)*(i+1)*1/fold)] \n",
        "        #creating training dataset\n",
        "        df_train=df_shuffle.copy() \n",
        "        #replacing the ratings that chosen for validation with NaN in the training dataset \n",
        "        df_train.loc[df_valid.index, 'rating']=np.NaN  \n",
        "        #creating user-item dataframe\n",
        "        train_matrix=df_train.pivot(index=\"user.id\", columns=\"item.id\", values=\"rating\")\n",
        "        \n",
        "        #information about the users without the zip info which is not relevant in our study\n",
        "        user_rel=user.copy()\n",
        "        user_rel=user_rel.drop(\" zip\",1)\n",
        "\n",
        "        #seperate the users by age, 0-young, 1-older\n",
        "        user_rel.loc[user_rel[\" age \"]<=25,\" age \"]=0\n",
        "        user_rel.loc[user_rel[\" age \"]>25,\" age \"]=1\n",
        "        user_rel.rename(columns={\"id \":\"user.id\",\" age \":\"age\", \" gender \":\"gender\", \" job \":\"job\" },inplace=True)\n",
        "\n",
        "\n",
        "        # 0- bad movie rating , 1- good movie rating classification\n",
        "        user_item_copied=train_matrix.copy()\n",
        "        user_item_copied[user_item_copied<4]=0\n",
        "        user_item_copied[user_item_copied>=4]=1\n",
        "\n",
        "\n",
        "        user_merged=user_rel.merge(user_item_copied,on=\"user.id\")\n",
        "\n",
        "        #this is a frequential method to emulate the probabilistic method of the bayesian model\n",
        "        #with this method, you can aggregate the amount of positive votes (sum) over the total amount of votes(count).\n",
        "\n",
        "        grouped_df_sum=user_merged.groupby(['age','gender','job']).agg('sum')\n",
        "        grouped_df_count=user_merged.groupby(['age','gender','job']).agg('count')\n",
        "        # ADDED THE +1 +2::::: ############################################################ CAREFULLL ################################################## !!!!!!!!!! ########\n",
        "        #calculating the frequences through sum/count by adding the laplace additive smoothing value of +1 / +2\n",
        "        grouped_df_prob=(grouped_df_sum+1)/(grouped_df_count+2)\n",
        "        #grouped_df_prob=(grouped_df_sum)/(grouped_df_count)\n",
        "\n",
        "        grouped_df_prob.fillna(0,inplace=True)\n",
        "        grouped_df_prob.drop(columns=[\"user.id\"],inplace=True)\n",
        "\n",
        "        grouped_df_prob=grouped_df_sum/grouped_df_count\n",
        "        #result of the prediction DataFrame following this formula: P(Rating=POSITIVE)*E[Rating=POSITIVE]+P(Rating=NEGATIVE)*E[Rating=NEGATIVE]\n",
        "\n",
        "        #negative_expectation\n",
        "        negative_expectation=np.nanmean(np.array(train_matrix[train_matrix<4]))\n",
        "        #positive_mean\n",
        "        positive_expectation=np.nanmean(np.array(train_matrix[train_matrix>=4]))\n",
        "\n",
        "        prediction=(1-grouped_df_prob)*negative_expectation+(grouped_df_prob)*positive_expectation\n",
        "\n",
        "        #create the classification dataframe and setting the user_id ot the index column\n",
        "        classification_df=user_merged.copy()\n",
        "        classification_df=classification_df.set_index(\"user.id\")\n",
        "\n",
        "        #taking only the right-side of the classification dataframe without the age,gender and job\n",
        "        prediction_df=classification_df.copy()\n",
        "        #prediction_df=prediction_df.reset_index()\n",
        "        prediction_df=prediction_df.drop(columns=['age','gender','job'])\n",
        "        #transforming all the values to NaN\n",
        "        prediction_df[prediction_df>=0]=None\n",
        "        #keeping the age,gender and job columns into a dataframe\n",
        "        prediction_axis=classification_df.copy()\n",
        "        prediction_axis=prediction_axis[['age','gender','job']]\n",
        "\n",
        "        #merging the right side with the left side of the above created dataframes\n",
        "        prediction_merging=[prediction_axis,prediction_df]\n",
        "        prediction_empty=pd.concat(prediction_merging)\n",
        "\n",
        "        #the prediction matrix is now empty and we could now fill it up\n",
        "        prediction_empty\n",
        "        #index=pd.MultiIndex.from_product(prediction_axis)\n",
        "        #prediction_empty2=prediction_empty\n",
        "        #prediction_empty2.set_index(['age','gender','job'])\n",
        "        prediction_empty=prediction_empty#.drop(columns='user.id')\n",
        "        prediction_empty.reset_index(inplace=True)\n",
        "        prediction1=prediction.reset_index()\n",
        "        prediction_valid=prediction1.merge(prediction_empty[['age','gender','job','user.id']], how='inner', on=['age','gender','job'])\n",
        "        prediction_valid=prediction_valid.rename(columns={\"user.id_y\": 'user.id'})\n",
        "        prediction_valid=prediction_valid.set_index(\"user.id\")\n",
        "        prediction_valid=prediction_valid.sort_index()\n",
        "        prediction_valid=prediction_valid.drop(columns=['age','gender','job','user.id_x'])\n",
        "\n",
        "        # FIND MSE WITH CROSS-VALIDATION:\n",
        "        #turn the resulting 2d-DataFrame into multiple component DataFrame just like the original votes DataFrame:\n",
        "        pred=prediction_valid.stack().reset_index().rename(columns={\"level_0\":\"user.id\",\"level_1\":\"item.id\" ,0: \"rating.predict\"})\n",
        "\n",
        "        #extracting the ratings that should be predicted and exists in the validation set:\n",
        "        valid_prediction=pred.merge(df_valid, how=\"right\", on=[\"user.id\",\"item.id\"])\n",
        "        #calculating error\n",
        "        error_list.append(MSE(valid_prediction[\"rating.predict\"],valid_prediction[\"rating\"])) \n",
        "    #return prediction_valid ## changer ca pour le MSE !!!!!!\n",
        "    return error_list\n",
        "\n",
        "print(bayesian(votes,5,user))\n",
        "print(mean(bayesian(votes,5,user)))"
      ],
      "metadata": {
        "id": "nakUy8c-Q0MY",
        "colab": {
          "base_uri": "https://localhost:8080/"
        },
        "outputId": "ffca88ca-6640-4879-c46c-8b412fbc504e"
      },
      "execution_count": null,
      "outputs": [
        {
          "output_type": "stream",
          "name": "stderr",
          "text": [
            "/usr/local/lib/python3.7/dist-packages/ipykernel_launcher.py:18: FutureWarning: In a future version of pandas all arguments of DataFrame.drop except for the argument 'labels' will be keyword-only\n"
          ]
        },
        {
          "output_type": "stream",
          "name": "stdout",
          "text": [
            "[1.2460739007989794, 1.2359803120706365, 1.2321679244486041, 1.2436424947872449, 1.2254809371914013]\n",
            "1.2366691138593733\n",
            "CPU times: user 6.01 s, sys: 97 ms, total: 6.11 s\n",
            "Wall time: 5.94 s\n"
          ]
        }
      ]
    },
    {
      "cell_type": "markdown",
      "source": [
        "##Conclusion Q5\n",
        "the running time is very short and for 5 fold cross-validation is about 7s."
      ],
      "metadata": {
        "id": "S8kf9UlDgB1p"
      }
    },
    {
      "cell_type": "markdown",
      "source": [
        "It is normal that the probabilistic method with independence assumption gives us a higher error than the other models. Because even with the entire dataset this method is a naive bayes classifier probabilistic method which will still give us an error. So by doing a cross-validation technique, we end up with much bigger errors. If we had instead found the exact bayes non-naive classifier we would have much better result. We assume a lot of hypothesis for the probabilities to be independant. This in result, gives us a high biais. Therefore it is normal that the MSE is pretty high. This is most likely the worst prediction because of all the independance hypothesis that we assure. For example, we assume that there is no dependancy between the category of age and job. But that could'nt be furthur away from the truth. As a student, you can clearly see that there is much younger people that have \"student\" as a \"job\" category but people with  Also many of the classification may make sense but not be the optimal way of classification. For example, we subdivide the ages of the users by >25 and <=25. But by doing a simple distribution study, we can see that the median is 31. Therefore, we could have higher samples for >=25 years category. But it would also be innapropriate to not divide at 25 because most of the \"student\" from the job category are <=25. So this would not be accurate for the <30 years category. What we would suggest is a 4 category division illustrated in the following graph (25 and under, 25-40, 40-60 and 60+):"
      ],
      "metadata": {
        "id": "eH_XO9jLmVrd"
      }
    },
    {
      "cell_type": "code",
      "source": [
        "#user[\"gender\"]\n",
        "profession=user[\" job \"] #x1\n",
        "#sexe=user[\" gender \"] #x2\n",
        "age=user[\" age \"] #x3 goes from 7 to 73\n",
        "#numero_user=user[\"id \"] #(user.id) to link between user and votes.\n",
        "list(user.columns)\n",
        "age.hist(bins=4)"
      ],
      "metadata": {
        "colab": {
          "base_uri": "https://localhost:8080/",
          "height": 282
        },
        "id": "NtMDEDY9oPAR",
        "outputId": "01421cc5-4d61-4992-d360-5d0b43abb2d2"
      },
      "execution_count": null,
      "outputs": [
        {
          "output_type": "execute_result",
          "data": {
            "text/plain": [
              "<matplotlib.axes._subplots.AxesSubplot at 0x7f1c07363b90>"
            ]
          },
          "metadata": {},
          "execution_count": 21
        },
        {
          "output_type": "display_data",
          "data": {
            "image/png": "[encoded data removed]",
            "text/plain": [
              "<Figure size 432x288 with 1 Axes>"
            ]
          },
          "metadata": {
            "needs_background": "light"
          }
        }
      ]
    },
    {
      "cell_type": "markdown",
      "source": [
        "##Here is the study we performed on distribution of the job and age variable. We can cleary see that some jobs have a much higher age category. We could also see from our categorical seperation of age<25 and age >=25, most of the jobs are for 30+ year old users. Therefore we cannot assume independancy between these two variables. But our naive bayes model does assume it. This could partially explain a mugh higher error with this method"
      ],
      "metadata": {
        "id": "FJZb6T3qrtlK"
      }
    },
    {
      "cell_type": "code",
      "source": [
        "#distribution study of age/job \n",
        "\n",
        "import numpy as np\n",
        "import seaborn as sns\n",
        "import matplotlib.pyplot as plt\n",
        "\n",
        "#user.hist(column=\" age \")\n",
        "#user.hist(column=\" job \")\n",
        "ax=sns.catplot(x=\" job \", y=\" age \",kind='boxen',data=user,height=8,aspect=12/8)\n",
        "ax.set_xticklabels(rotation = 45)\n"
      ],
      "metadata": {
        "colab": {
          "base_uri": "https://localhost:8080/",
          "height": 650
        },
        "id": "-WkB9cmZp5CP",
        "outputId": "0ae81db8-48e1-4559-bf4f-9350d519a5b0"
      },
      "execution_count": null,
      "outputs": [
        {
          "output_type": "execute_result",
          "data": {
            "text/plain": [
              "<seaborn.axisgrid.FacetGrid at 0x7f1bfc8219d0>"
            ]
          },
          "metadata": {},
          "execution_count": 39
        },
        {
          "output_type": "display_data",
          "data": {
            "image/png": "[encoded data removed]",
            "text/plain": [
              "<Figure size 864x576 with 1 Axes>"
            ]
          },
          "metadata": {
            "needs_background": "light"
          }
        }
      ]
    }
  ],
  "metadata": {
    "colab": {
      "name": "TP1.ipynb",
      "provenance": [],
      "collapsed_sections": [
        "VM-CdtlK-Ar4",
        "2EYHl4no9gkI"
      ]
    },
    "kernelspec": {
      "display_name": "Python 3",
      "name": "python3"
    },
    "language_info": {
      "name": "python"
    }
  },
  "nbformat": 4,
  "nbformat_minor": 0
}